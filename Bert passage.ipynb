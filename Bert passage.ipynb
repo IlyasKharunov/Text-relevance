{
 "cells": [
  {
   "cell_type": "code",
   "execution_count": 1,
   "metadata": {
    "colab": {
     "base_uri": "https://localhost:8080/",
     "height": 121
    },
    "colab_type": "code",
    "id": "livlfdmdWSEX",
    "outputId": "0b61fc6d-d174-4b02-cec4-d67219846a2a"
   },
   "outputs": [
    {
     "name": "stdout",
     "output_type": "stream",
     "text": [
      "Go to this URL in a browser: https://accounts.google.com/o/oauth2/auth?client_id=947318989803-6bn6qk8qdgf4n4g3pfee6491hc0brc4i.apps.googleusercontent.com&redirect_uri=urn%3aietf%3awg%3aoauth%3a2.0%3aoob&response_type=code&scope=email%20https%3a%2f%2fwww.googleapis.com%2fauth%2fdocs.test%20https%3a%2f%2fwww.googleapis.com%2fauth%2fdrive%20https%3a%2f%2fwww.googleapis.com%2fauth%2fdrive.photos.readonly%20https%3a%2f%2fwww.googleapis.com%2fauth%2fpeopleapi.readonly\n",
      "\n",
      "Enter your authorization code:\n",
      "··········\n",
      "Mounted at /content/drive\n"
     ]
    }
   ],
   "source": [
    "from google.colab import drive\n",
    "drive.mount('/content/drive')"
   ]
  },
  {
   "cell_type": "code",
   "execution_count": 2,
   "metadata": {
    "colab": {
     "base_uri": "https://localhost:8080/",
     "height": 34
    },
    "colab_type": "code",
    "id": "LoCnR2yuWmDn",
    "outputId": "128672e7-832c-423d-8589-5ffbfa6295c4"
   },
   "outputs": [
    {
     "name": "stdout",
     "output_type": "stream",
     "text": [
      "/content/drive/My Drive/Colab Notebooks/Text relevance\n"
     ]
    }
   ],
   "source": [
    "cd 'drive/My Drive/Colab Notebooks/Text relevance'"
   ]
  },
  {
   "cell_type": "code",
   "execution_count": 3,
   "metadata": {
    "colab": {
     "base_uri": "https://localhost:8080/",
     "height": 793
    },
    "colab_type": "code",
    "id": "Mt_J6EaAkPeI",
    "outputId": "a8124af8-2a90-4e14-fdcd-85d59b886731"
   },
   "outputs": [
    {
     "name": "stdout",
     "output_type": "stream",
     "text": [
      "Collecting pymorphy2-dicts\n",
      "\u001b[?25l  Downloading https://files.pythonhosted.org/packages/02/51/2465fd4f72328ab50877b54777764d928da8cb15b74e2680fc1bd8cb3173/pymorphy2_dicts-2.4.393442.3710985-py2.py3-none-any.whl (7.1MB)\n",
      "\u001b[K     |████████████████████████████████| 7.1MB 5.0MB/s \n",
      "\u001b[?25hInstalling collected packages: pymorphy2-dicts\n",
      "Successfully installed pymorphy2-dicts-2.4.393442.3710985\n",
      "Collecting DAWG-Python\n",
      "  Downloading https://files.pythonhosted.org/packages/6a/84/ff1ce2071d4c650ec85745766c0047ccc3b5036f1d03559fd46bb38b5eeb/DAWG_Python-0.7.2-py2.py3-none-any.whl\n",
      "Installing collected packages: DAWG-Python\n",
      "Successfully installed DAWG-Python-0.7.2\n",
      "Collecting pymorphy2[fast]\n",
      "\u001b[?25l  Downloading https://files.pythonhosted.org/packages/a3/33/fff9675c68b5f6c63ec8c6e6ff57827dda28a1fa5b2c2d727dffff92dd47/pymorphy2-0.8-py2.py3-none-any.whl (46kB)\n",
      "\u001b[K     |████████████████████████████████| 51kB 2.3MB/s \n",
      "\u001b[?25hRequirement already satisfied, skipping upgrade: docopt>=0.6 in /usr/local/lib/python3.6/dist-packages (from pymorphy2[fast]) (0.6.2)\n",
      "Requirement already satisfied, skipping upgrade: dawg-python>=0.7 in /usr/local/lib/python3.6/dist-packages (from pymorphy2[fast]) (0.7.2)\n",
      "Requirement already satisfied, skipping upgrade: pymorphy2-dicts<3.0,>=2.4 in /usr/local/lib/python3.6/dist-packages (from pymorphy2[fast]) (2.4.393442.3710985)\n",
      "Collecting DAWG>=0.7.3; extra == \"fast\"\n",
      "\u001b[?25l  Downloading https://files.pythonhosted.org/packages/b8/ef/91b619a399685f7a0a95a03628006ba814d96293bbbbed234ee66fbdefd9/DAWG-0.8.0.tar.gz (371kB)\n",
      "\u001b[K     |████████████████████████████████| 378kB 13.1MB/s \n",
      "\u001b[?25hBuilding wheels for collected packages: DAWG\n",
      "  Building wheel for DAWG (setup.py) ... \u001b[?25l\u001b[?25hdone\n",
      "  Created wheel for DAWG: filename=DAWG-0.8.0-cp36-cp36m-linux_x86_64.whl size=867689 sha256=3a69e843b4455eca9e431ac15564cc1c9c80074eb49b317cd1b759cefb421881\n",
      "  Stored in directory: /root/.cache/pip/wheels/3d/1f/f0/a5b1f9d02e193c997d252c33d215f24dfd7a448bc0166b2a12\n",
      "Successfully built DAWG\n",
      "Installing collected packages: DAWG, pymorphy2\n",
      "Successfully installed DAWG-0.8.0 pymorphy2-0.8\n",
      "хороший\n",
      "Collecting nltk\n",
      "\u001b[?25l  Downloading https://files.pythonhosted.org/packages/92/75/ce35194d8e3022203cca0d2f896dbb88689f9b3fce8e9f9cff942913519d/nltk-3.5.zip (1.4MB)\n",
      "\u001b[K     |████████████████████████████████| 1.4MB 4.8MB/s \n",
      "\u001b[?25hRequirement already satisfied, skipping upgrade: click in /usr/local/lib/python3.6/dist-packages (from nltk) (7.1.2)\n",
      "Requirement already satisfied, skipping upgrade: joblib in /usr/local/lib/python3.6/dist-packages (from nltk) (0.15.1)\n",
      "Requirement already satisfied, skipping upgrade: regex in /usr/local/lib/python3.6/dist-packages (from nltk) (2019.12.20)\n",
      "Requirement already satisfied, skipping upgrade: tqdm in /usr/local/lib/python3.6/dist-packages (from nltk) (4.41.1)\n",
      "Building wheels for collected packages: nltk\n",
      "  Building wheel for nltk (setup.py) ... \u001b[?25l\u001b[?25hdone\n",
      "  Created wheel for nltk: filename=nltk-3.5-cp36-none-any.whl size=1434675 sha256=d442c8068dd2f8591baa51e23f6f729ee6b4ef8d9323d85c397617bcf9d8e0d8\n",
      "  Stored in directory: /root/.cache/pip/wheels/ae/8c/3f/b1fe0ba04555b08b57ab52ab7f86023639a526d8bc8d384306\n",
      "Successfully built nltk\n",
      "Installing collected packages: nltk\n",
      "  Found existing installation: nltk 3.2.5\n",
      "    Uninstalling nltk-3.2.5:\n",
      "      Successfully uninstalled nltk-3.2.5\n",
      "Successfully installed nltk-3.5\n"
     ]
    },
    {
     "name": "stderr",
     "output_type": "stream",
     "text": [
      "[nltk_data] Downloading package stopwords to /root/nltk_data...\n",
      "[nltk_data]   Unzipping corpora/stopwords.zip.\n"
     ]
    }
   ],
   "source": [
    " %run prepare_some_data.ipynb"
   ]
  },
  {
   "cell_type": "code",
   "execution_count": 0,
   "metadata": {
    "colab": {},
    "colab_type": "code",
    "id": "WnSG8tSiiWzt"
   },
   "outputs": [],
   "source": [
    "queries=dict()\n",
    "with open('queries.fixed.txt',encoding='utf-8-sig') as f:\n",
    "    for line in f:\n",
    "        query_id,words=line.split('\\t')\n",
    "        queries[int(query_id)]=process_string(words).strip().replace('.',' ')"
   ]
  },
  {
   "cell_type": "code",
   "execution_count": 0,
   "metadata": {
    "colab": {},
    "colab_type": "code",
    "id": "ylcMBk3xO6vE"
   },
   "outputs": [],
   "source": [
    "candidates,reverse_candidates=generate_candidates()"
   ]
  },
  {
   "cell_type": "code",
   "execution_count": 0,
   "metadata": {
    "colab": {},
    "colab_type": "code",
    "id": "hQRqhbVGMSzP"
   },
   "outputs": [],
   "source": [
    "def load_bm():\n",
    "    with open('bm25res.txt','r') as f:\n",
    "        ans=dict()\n",
    "        for line in f:\n",
    "            query_id,s=line.strip().split('\\t')\n",
    "            query_id=int(query_id)\n",
    "\n",
    "            score_bm=defaultdict(float)\n",
    "            for score in s.split():\n",
    "                score,doc_id=score.split(',')\n",
    "                score_bm[int(doc_id)]=float(score)\n",
    "            ans[query_id]=score_bm\n",
    "        return ans"
   ]
  },
  {
   "cell_type": "code",
   "execution_count": 7,
   "metadata": {
    "colab": {
     "base_uri": "https://localhost:8080/",
     "height": 554
    },
    "colab_type": "code",
    "id": "faPBn4mJFgWG",
    "outputId": "c7f61162-4415-4e1e-c4db-0f31f546d383"
   },
   "outputs": [
    {
     "name": "stdout",
     "output_type": "stream",
     "text": [
      "Collecting transformers\n",
      "\u001b[?25l  Downloading https://files.pythonhosted.org/packages/12/b5/ac41e3e95205ebf53439e4dd087c58e9fd371fd8e3724f2b9b4cdb8282e5/transformers-2.10.0-py3-none-any.whl (660kB)\n",
      "\r",
      "\u001b[K     |▌                               | 10kB 16.6MB/s eta 0:00:01\r",
      "\u001b[K     |█                               | 20kB 3.2MB/s eta 0:00:01\r",
      "\u001b[K     |█▌                              | 30kB 4.2MB/s eta 0:00:01\r",
      "\u001b[K     |██                              | 40kB 4.5MB/s eta 0:00:01\r",
      "\u001b[K     |██▌                             | 51kB 3.6MB/s eta 0:00:01\r",
      "\u001b[K     |███                             | 61kB 4.1MB/s eta 0:00:01\r",
      "\u001b[K     |███▌                            | 71kB 4.3MB/s eta 0:00:01\r",
      "\u001b[K     |████                            | 81kB 4.7MB/s eta 0:00:01\r",
      "\u001b[K     |████▌                           | 92kB 5.1MB/s eta 0:00:01\r",
      "\u001b[K     |█████                           | 102kB 4.9MB/s eta 0:00:01\r",
      "\u001b[K     |█████▌                          | 112kB 4.9MB/s eta 0:00:01\r",
      "\u001b[K     |██████                          | 122kB 4.9MB/s eta 0:00:01\r",
      "\u001b[K     |██████▌                         | 133kB 4.9MB/s eta 0:00:01\r",
      "\u001b[K     |███████                         | 143kB 4.9MB/s eta 0:00:01\r",
      "\u001b[K     |███████▌                        | 153kB 4.9MB/s eta 0:00:01\r",
      "\u001b[K     |████████                        | 163kB 4.9MB/s eta 0:00:01\r",
      "\u001b[K     |████████▍                       | 174kB 4.9MB/s eta 0:00:01\r",
      "\u001b[K     |█████████                       | 184kB 4.9MB/s eta 0:00:01\r",
      "\u001b[K     |█████████▍                      | 194kB 4.9MB/s eta 0:00:01\r",
      "\u001b[K     |██████████                      | 204kB 4.9MB/s eta 0:00:01\r",
      "\u001b[K     |██████████▍                     | 215kB 4.9MB/s eta 0:00:01\r",
      "\u001b[K     |███████████                     | 225kB 4.9MB/s eta 0:00:01\r",
      "\u001b[K     |███████████▍                    | 235kB 4.9MB/s eta 0:00:01\r",
      "\u001b[K     |████████████                    | 245kB 4.9MB/s eta 0:00:01\r",
      "\u001b[K     |████████████▍                   | 256kB 4.9MB/s eta 0:00:01\r",
      "\u001b[K     |█████████████                   | 266kB 4.9MB/s eta 0:00:01\r",
      "\u001b[K     |█████████████▍                  | 276kB 4.9MB/s eta 0:00:01\r",
      "\u001b[K     |██████████████                  | 286kB 4.9MB/s eta 0:00:01\r",
      "\u001b[K     |██████████████▍                 | 296kB 4.9MB/s eta 0:00:01\r",
      "\u001b[K     |███████████████                 | 307kB 4.9MB/s eta 0:00:01\r",
      "\u001b[K     |███████████████▍                | 317kB 4.9MB/s eta 0:00:01\r",
      "\u001b[K     |███████████████▉                | 327kB 4.9MB/s eta 0:00:01\r",
      "\u001b[K     |████████████████▍               | 337kB 4.9MB/s eta 0:00:01\r",
      "\u001b[K     |████████████████▉               | 348kB 4.9MB/s eta 0:00:01\r",
      "\u001b[K     |█████████████████▍              | 358kB 4.9MB/s eta 0:00:01\r",
      "\u001b[K     |█████████████████▉              | 368kB 4.9MB/s eta 0:00:01\r",
      "\u001b[K     |██████████████████▍             | 378kB 4.9MB/s eta 0:00:01\r",
      "\u001b[K     |██████████████████▉             | 389kB 4.9MB/s eta 0:00:01\r",
      "\u001b[K     |███████████████████▍            | 399kB 4.9MB/s eta 0:00:01\r",
      "\u001b[K     |███████████████████▉            | 409kB 4.9MB/s eta 0:00:01\r",
      "\u001b[K     |████████████████████▍           | 419kB 4.9MB/s eta 0:00:01\r",
      "\u001b[K     |████████████████████▉           | 430kB 4.9MB/s eta 0:00:01\r",
      "\u001b[K     |█████████████████████▍          | 440kB 4.9MB/s eta 0:00:01\r",
      "\u001b[K     |█████████████████████▉          | 450kB 4.9MB/s eta 0:00:01\r",
      "\u001b[K     |██████████████████████▍         | 460kB 4.9MB/s eta 0:00:01\r",
      "\u001b[K     |██████████████████████▉         | 471kB 4.9MB/s eta 0:00:01\r",
      "\u001b[K     |███████████████████████▎        | 481kB 4.9MB/s eta 0:00:01\r",
      "\u001b[K     |███████████████████████▉        | 491kB 4.9MB/s eta 0:00:01\r",
      "\u001b[K     |████████████████████████▎       | 501kB 4.9MB/s eta 0:00:01\r",
      "\u001b[K     |████████████████████████▉       | 512kB 4.9MB/s eta 0:00:01\r",
      "\u001b[K     |█████████████████████████▎      | 522kB 4.9MB/s eta 0:00:01\r",
      "\u001b[K     |█████████████████████████▉      | 532kB 4.9MB/s eta 0:00:01\r",
      "\u001b[K     |██████████████████████████▎     | 542kB 4.9MB/s eta 0:00:01\r",
      "\u001b[K     |██████████████████████████▉     | 552kB 4.9MB/s eta 0:00:01\r",
      "\u001b[K     |███████████████████████████▎    | 563kB 4.9MB/s eta 0:00:01\r",
      "\u001b[K     |███████████████████████████▉    | 573kB 4.9MB/s eta 0:00:01\r",
      "\u001b[K     |████████████████████████████▎   | 583kB 4.9MB/s eta 0:00:01\r",
      "\u001b[K     |████████████████████████████▉   | 593kB 4.9MB/s eta 0:00:01\r",
      "\u001b[K     |█████████████████████████████▎  | 604kB 4.9MB/s eta 0:00:01\r",
      "\u001b[K     |█████████████████████████████▉  | 614kB 4.9MB/s eta 0:00:01\r",
      "\u001b[K     |██████████████████████████████▎ | 624kB 4.9MB/s eta 0:00:01\r",
      "\u001b[K     |██████████████████████████████▊ | 634kB 4.9MB/s eta 0:00:01\r",
      "\u001b[K     |███████████████████████████████▎| 645kB 4.9MB/s eta 0:00:01\r",
      "\u001b[K     |███████████████████████████████▊| 655kB 4.9MB/s eta 0:00:01\r",
      "\u001b[K     |████████████████████████████████| 665kB 4.9MB/s \n",
      "\u001b[?25hRequirement already satisfied: numpy in /usr/local/lib/python3.6/dist-packages (from transformers) (1.18.4)\n",
      "Requirement already satisfied: regex!=2019.12.17 in /usr/local/lib/python3.6/dist-packages (from transformers) (2019.12.20)\n",
      "Requirement already satisfied: tqdm>=4.27 in /usr/local/lib/python3.6/dist-packages (from transformers) (4.41.1)\n",
      "Requirement already satisfied: filelock in /usr/local/lib/python3.6/dist-packages (from transformers) (3.0.12)\n",
      "Collecting sentencepiece\n",
      "\u001b[?25l  Downloading https://files.pythonhosted.org/packages/d4/a4/d0a884c4300004a78cca907a6ff9a5e9fe4f090f5d95ab341c53d28cbc58/sentencepiece-0.1.91-cp36-cp36m-manylinux1_x86_64.whl (1.1MB)\n",
      "\u001b[K     |████████████████████████████████| 1.1MB 17.7MB/s \n",
      "\u001b[?25hRequirement already satisfied: dataclasses; python_version < \"3.7\" in /usr/local/lib/python3.6/dist-packages (from transformers) (0.7)\n",
      "Collecting tokenizers==0.7.0\n",
      "\u001b[?25l  Downloading https://files.pythonhosted.org/packages/14/e5/a26eb4716523808bb0a799fcfdceb6ebf77a18169d9591b2f46a9adb87d9/tokenizers-0.7.0-cp36-cp36m-manylinux1_x86_64.whl (3.8MB)\n",
      "\u001b[K     |████████████████████████████████| 3.8MB 39.7MB/s \n",
      "\u001b[?25hCollecting sacremoses\n",
      "\u001b[?25l  Downloading https://files.pythonhosted.org/packages/7d/34/09d19aff26edcc8eb2a01bed8e98f13a1537005d31e95233fd48216eed10/sacremoses-0.0.43.tar.gz (883kB)\n",
      "\u001b[K     |████████████████████████████████| 890kB 51.0MB/s \n",
      "\u001b[?25hRequirement already satisfied: requests in /usr/local/lib/python3.6/dist-packages (from transformers) (2.23.0)\n",
      "Requirement already satisfied: six in /usr/local/lib/python3.6/dist-packages (from sacremoses->transformers) (1.12.0)\n",
      "Requirement already satisfied: click in /usr/local/lib/python3.6/dist-packages (from sacremoses->transformers) (7.1.2)\n",
      "Requirement already satisfied: joblib in /usr/local/lib/python3.6/dist-packages (from sacremoses->transformers) (0.15.1)\n",
      "Requirement already satisfied: urllib3!=1.25.0,!=1.25.1,<1.26,>=1.21.1 in /usr/local/lib/python3.6/dist-packages (from requests->transformers) (1.24.3)\n",
      "Requirement already satisfied: chardet<4,>=3.0.2 in /usr/local/lib/python3.6/dist-packages (from requests->transformers) (3.0.4)\n",
      "Requirement already satisfied: idna<3,>=2.5 in /usr/local/lib/python3.6/dist-packages (from requests->transformers) (2.9)\n",
      "Requirement already satisfied: certifi>=2017.4.17 in /usr/local/lib/python3.6/dist-packages (from requests->transformers) (2020.4.5.1)\n",
      "Building wheels for collected packages: sacremoses\n",
      "  Building wheel for sacremoses (setup.py) ... \u001b[?25l\u001b[?25hdone\n",
      "  Created wheel for sacremoses: filename=sacremoses-0.0.43-cp36-none-any.whl size=893260 sha256=4e8c97c8255a35c0edcc40a5e324c056d5e516eed632d456d9a59d856a337507\n",
      "  Stored in directory: /root/.cache/pip/wheels/29/3c/fd/7ce5c3f0666dab31a50123635e6fb5e19ceb42ce38d4e58f45\n",
      "Successfully built sacremoses\n",
      "Installing collected packages: sentencepiece, tokenizers, sacremoses, transformers\n",
      "Successfully installed sacremoses-0.0.43 sentencepiece-0.1.91 tokenizers-0.7.0 transformers-2.10.0\n"
     ]
    }
   ],
   "source": [
    "!pip install transformers"
   ]
  },
  {
   "cell_type": "code",
   "execution_count": 0,
   "metadata": {
    "colab": {},
    "colab_type": "code",
    "id": "R_i6BI4q2kXW"
   },
   "outputs": [],
   "source": [
    "import torch\n",
    "import timeit\n",
    "from transformers import *\n",
    "from torch.nn.utils.rnn import pad_sequence, pack_padded_sequence"
   ]
  },
  {
   "cell_type": "code",
   "execution_count": 9,
   "metadata": {
    "colab": {
     "base_uri": "https://localhost:8080/",
     "height": 261,
     "referenced_widgets": [
      "c25526a47de0421fb74b2adc113e9cbb",
      "373f7c5050b6477f90e89f77032c6f38",
      "18923b06e9684de1be8592c79065370a",
      "ecab6925152646d38fbdf1ac2d364bac",
      "4f82210550714e0398db8ac73dc02892",
      "592a3bb0653c438ca52d8616d1f21bc4",
      "46baf071ccf548d4af56dd958f126c9b",
      "34a15376b6fa46f0ad33ba0c0edb93a4",
      "ed842582dadd42d1a665031df0a6b98f",
      "676f521546a143cf86dc90dffac179fb",
      "ae26b10211964935b948b3b06cf706f3",
      "d50146abee3b42e9bf32c0594788aae3",
      "8b7558b8225d49c5a55f8037f4c4c29b",
      "b3e69e000b244936bdabf35edccdf567",
      "c33974eb8042427caa9a23cb453e1743",
      "cb89cad8fff145bab833bd8a2681e1ad",
      "4141057b8ce24dd6a986cfe9b9671bdc",
      "a56663f24f9343b89a3f849d8bbdba9c",
      "25a66eb569e24b2b971e4c36c2858dbe",
      "40dc10d433a846f99e5e810b85a860aa",
      "8e1c2635d4534556a913ee021865ffec",
      "f9aa992ec4464936970dace6e53af8da",
      "177751daa0664112853bd45992344e48",
      "8eca3608ff2c447f8cb60e499e4b6ff5",
      "2138b9ddc6e04c6e8e31bdb93a636d5e",
      "b055caec519c49048e102055683f903f",
      "a261eea0dd094414b0e486221731c8cc",
      "6d45e1f0d0ff430690ab7c339a2084ca",
      "26be6532c44649dea5d47bc30033aa6d",
      "f4307be95fc74e6facd43049a977493a",
      "3b05ec2139cb44249089a05013bc46dc",
      "1f4c7ea605d1480e84b080d9f9f1b4fb",
      "4eec0347ddc04d56adb726d26ec1faf1",
      "a7311591dd6041f38deb96f36aa824ac",
      "d0542ee3f66a4dc4adecef93f4f6e0aa",
      "a36b8be39811480ebcaa58a741f24c62",
      "33b742daab134c828cace4eae93fd2bb",
      "da3a2b04903344f68eccb120a46627f7",
      "2563afdc75e141c9a87cea2040ec18a6",
      "86f3ef468ed44a79bc72ba8eac8a74b9"
     ]
    },
    "colab_type": "code",
    "id": "ZqBd_mYa23iy",
    "outputId": "643d8690-204e-42f5-a576-411c0ae1c887"
   },
   "outputs": [
    {
     "data": {
      "application/vnd.jupyter.widget-view+json": {
       "model_id": "c25526a47de0421fb74b2adc113e9cbb",
       "version_major": 2,
       "version_minor": 0
      },
      "text/plain": [
       "HBox(children=(FloatProgress(value=0.0, description='Downloading', max=642.0, style=ProgressStyle(description_…"
      ]
     },
     "metadata": {
      "tags": []
     },
     "output_type": "display_data"
    },
    {
     "name": "stdout",
     "output_type": "stream",
     "text": [
      "\n"
     ]
    },
    {
     "data": {
      "application/vnd.jupyter.widget-view+json": {
       "model_id": "ed842582dadd42d1a665031df0a6b98f",
       "version_major": 2,
       "version_minor": 0
      },
      "text/plain": [
       "HBox(children=(FloatProgress(value=0.0, description='Downloading', max=1649718.0, style=ProgressStyle(descript…"
      ]
     },
     "metadata": {
      "tags": []
     },
     "output_type": "display_data"
    },
    {
     "name": "stdout",
     "output_type": "stream",
     "text": [
      "\n"
     ]
    },
    {
     "data": {
      "application/vnd.jupyter.widget-view+json": {
       "model_id": "4141057b8ce24dd6a986cfe9b9671bdc",
       "version_major": 2,
       "version_minor": 0
      },
      "text/plain": [
       "HBox(children=(FloatProgress(value=0.0, description='Downloading', max=112.0, style=ProgressStyle(description_…"
      ]
     },
     "metadata": {
      "tags": []
     },
     "output_type": "display_data"
    },
    {
     "name": "stdout",
     "output_type": "stream",
     "text": [
      "\n"
     ]
    },
    {
     "data": {
      "application/vnd.jupyter.widget-view+json": {
       "model_id": "2138b9ddc6e04c6e8e31bdb93a636d5e",
       "version_major": 2,
       "version_minor": 0
      },
      "text/plain": [
       "HBox(children=(FloatProgress(value=0.0, description='Downloading', max=24.0, style=ProgressStyle(description_w…"
      ]
     },
     "metadata": {
      "tags": []
     },
     "output_type": "display_data"
    },
    {
     "name": "stdout",
     "output_type": "stream",
     "text": [
      "\n"
     ]
    },
    {
     "data": {
      "application/vnd.jupyter.widget-view+json": {
       "model_id": "4eec0347ddc04d56adb726d26ec1faf1",
       "version_major": 2,
       "version_minor": 0
      },
      "text/plain": [
       "HBox(children=(FloatProgress(value=0.0, description='Downloading', max=711456784.0, style=ProgressStyle(descri…"
      ]
     },
     "metadata": {
      "tags": []
     },
     "output_type": "display_data"
    },
    {
     "name": "stdout",
     "output_type": "stream",
     "text": [
      "\n"
     ]
    }
   ],
   "source": [
    "tokenizer = AutoTokenizer.from_pretrained(\"DeepPavlov/rubert-base-cased-sentence\")\n",
    "\n",
    "model = AutoModelWithLMHead.from_pretrained(\"DeepPavlov/rubert-base-cased-sentence\")"
   ]
  },
  {
   "cell_type": "code",
   "execution_count": 0,
   "metadata": {
    "colab": {},
    "colab_type": "code",
    "id": "tQljEWKH26Z9"
   },
   "outputs": [],
   "source": [
    "device = 'cuda'\n",
    "model = model.to(device)\n",
    "model.eval()\n",
    "None"
   ]
  },
  {
   "cell_type": "code",
   "execution_count": 11,
   "metadata": {
    "colab": {
     "base_uri": "https://localhost:8080/",
     "height": 34
    },
    "colab_type": "code",
    "id": "wFXofmsg28Eq",
    "outputId": "8796ac34-8a3a-4001-8b40-32747666117a"
   },
   "outputs": [
    {
     "data": {
      "text/plain": [
       "torch.Size([2, 11])"
      ]
     },
     "execution_count": 11,
     "metadata": {
      "tags": []
     },
     "output_type": "execute_result"
    }
   ],
   "source": [
    "t1=tokenizer.encode(\"мультивиза в израиль какие страны можно посетить\",add_special_tokens=False)\n",
    "t2=tokenizer.encode(\"Хороший плохой дядя вася\",add_special_tokens=False)\n",
    "batch = tokenizer.batch_encode_plus([t1,t2], add_special_tokens=True, pad_to_max_length = True)['input_ids']\n",
    "batch = torch.tensor(batch)\n",
    "batch.size()"
   ]
  },
  {
   "cell_type": "code",
   "execution_count": 0,
   "metadata": {
    "colab": {},
    "colab_type": "code",
    "id": "7XyFZkXO3FUw"
   },
   "outputs": [],
   "source": [
    "coss = torch.nn.CosineSimilarity(dim = 1)"
   ]
  },
  {
   "cell_type": "code",
   "execution_count": 13,
   "metadata": {
    "colab": {
     "base_uri": "https://localhost:8080/",
     "height": 67
    },
    "colab_type": "code",
    "id": "V7HYXjzU6d06",
    "outputId": "67d79095-7ee4-4656-b0dd-afb74b22155f"
   },
   "outputs": [
    {
     "name": "stdout",
     "output_type": "stream",
     "text": [
      "torch.Size([3, 2])\n",
      "torch.Size([1, 2])\n"
     ]
    },
    {
     "data": {
      "text/plain": [
       "tensor([0.9734, 0.9987, 1.0000])"
      ]
     },
     "execution_count": 13,
     "metadata": {
      "tags": []
     },
     "output_type": "execute_result"
    }
   ],
   "source": [
    "a=torch.tensor([[1,2],[3,4],[5,6]]).float()\n",
    "b=torch.tensor([[5,6]]).float()\n",
    "\n",
    "print(a.size())\n",
    "print(b.size())\n",
    "\n",
    "coss(a,b)"
   ]
  },
  {
   "cell_type": "code",
   "execution_count": 14,
   "metadata": {
    "colab": {
     "base_uri": "https://localhost:8080/",
     "height": 34
    },
    "colab_type": "code",
    "id": "15VOL8blUsfr",
    "outputId": "80fcfc33-2fe8-4730-f834-0c6bacaf7148"
   },
   "outputs": [
    {
     "data": {
      "text/plain": [
       "'что означает знак бесконечность '"
      ]
     },
     "execution_count": 14,
     "metadata": {
      "tags": []
     },
     "output_type": "execute_result"
    }
   ],
   "source": [
    "get_query[21]"
   ]
  },
  {
   "cell_type": "code",
   "execution_count": 15,
   "metadata": {
    "colab": {
     "base_uri": "https://localhost:8080/",
     "height": 70
    },
    "colab_type": "code",
    "id": "qB_V-5pj3H8R",
    "outputId": "d95927e9-6e81-412f-9b6d-7d5485a4fcd0"
   },
   "outputs": [
    {
     "name": "stderr",
     "output_type": "stream",
     "text": [
      "/usr/local/lib/python3.6/dist-packages/ipykernel_launcher.py:10: UserWarning: To copy construct from a tensor, it is recommended to use sourceTensor.clone().detach() or sourceTensor.clone().detach().requires_grad_(True), rather than torch.tensor(sourceTensor).\n",
      "  # Remove the CWD from sys.path while we load stuff.\n"
     ]
    }
   ],
   "source": [
    "query_embs=dict()\n",
    "coss = torch.nn.CosineSimilarity(dim = 0)\n",
    "\n",
    "for query_id in range(1,400):\n",
    "    tmp=tokenizer.batch_encode_plus([get_query[query_id]],\n",
    "                                               add_special_tokens=True, pad_to_max_length = False)\n",
    "    batch=torch.tensor(tmp['input_ids'])\n",
    "    batch=batch.to('cuda')\n",
    "    with torch.no_grad():\n",
    "        embs = torch.tensor(model(batch)[0][0])\n",
    "    query_embs[query_id]=torch.mean(embs, dim = 0)"
   ]
  },
  {
   "cell_type": "code",
   "execution_count": 0,
   "metadata": {
    "colab": {},
    "colab_type": "code",
    "id": "QFEFsVQcW21m"
   },
   "outputs": [],
   "source": [
    "def gen(batch,batch_size=32):\n",
    "    for i in range(batch.size(0)//batch_size+int(batch.size(0)%batch_size!=0)):\n",
    "        yield batch[i*batch_size:(i+1)*batch_size]\n",
    "\n",
    "def divide_text(text,n):\n",
    "    t=text.split()\n",
    "    return [' '.join(t[i*n:(i+1)*n]) for i in range(len(t)//n+int(len(t)%n!=0))]\n",
    "\n",
    "def addset(s,text):\n",
    "    if text in s:\n",
    "        return False\n",
    "    else:\n",
    "        s.add(text)\n",
    "        return True"
   ]
  },
  {
   "cell_type": "code",
   "execution_count": 33,
   "metadata": {
    "colab": {
     "base_uri": "https://localhost:8080/",
     "height": 350
    },
    "colab_type": "code",
    "id": "TnWF5rVuv4sp",
    "outputId": "4dcadc94-41d2-424f-e308-9600d66c1a0b"
   },
   "outputs": [
    {
     "name": "stderr",
     "output_type": "stream",
     "text": [
      "/usr/local/lib/python3.6/dist-packages/ipykernel_launcher.py:57: UserWarning: To copy construct from a tensor, it is recommended to use sourceTensor.clone().detach() or sourceTensor.clone().detach().requires_grad_(True), rather than torch.tensor(sourceTensor).\n"
     ]
    },
    {
     "name": "stdout",
     "output_type": "stream",
     "text": [
      "i= 0\n",
      "i= 10\n",
      "i= 20\n",
      "i= 30\n",
      "i= 40\n"
     ]
    },
    {
     "ename": "KeyboardInterrupt",
     "evalue": "ignored",
     "output_type": "error",
     "traceback": [
      "\u001b[0;31m---------------------------------------------------------------------------\u001b[0m",
      "\u001b[0;31mKeyboardInterrupt\u001b[0m                         Traceback (most recent call last)",
      "\u001b[0;32m<ipython-input-33-ba6b8c182e8d>\u001b[0m in \u001b[0;36m<module>\u001b[0;34m()\u001b[0m\n\u001b[1;32m     65\u001b[0m \u001b[0;34m\u001b[0m\u001b[0m\n\u001b[1;32m     66\u001b[0m                         \u001b[0;32mfor\u001b[0m \u001b[0mind\u001b[0m \u001b[0;32min\u001b[0m \u001b[0mtmp\u001b[0m\u001b[0;34m:\u001b[0m\u001b[0;34m\u001b[0m\u001b[0;34m\u001b[0m\u001b[0m\n\u001b[0;32m---> 67\u001b[0;31m                             \u001b[0mout\u001b[0m\u001b[0;34m.\u001b[0m\u001b[0mwrite\u001b[0m\u001b[0;34m(\u001b[0m\u001b[0;34m'\\t'\u001b[0m\u001b[0;34m+\u001b[0m\u001b[0mstr\u001b[0m\u001b[0;34m(\u001b[0m\u001b[0mall_cosss\u001b[0m\u001b[0;34m[\u001b[0m\u001b[0mind\u001b[0m\u001b[0;34m]\u001b[0m\u001b[0;34m.\u001b[0m\u001b[0mitem\u001b[0m\u001b[0;34m(\u001b[0m\u001b[0;34m)\u001b[0m\u001b[0;34m)\u001b[0m\u001b[0;34m+\u001b[0m\u001b[0;34m','\u001b[0m\u001b[0;34m+\u001b[0m\u001b[0mtexts\u001b[0m\u001b[0;34m[\u001b[0m\u001b[0mind\u001b[0m\u001b[0;34m]\u001b[0m\u001b[0;34m)\u001b[0m\u001b[0;34m\u001b[0m\u001b[0;34m\u001b[0m\u001b[0m\n\u001b[0m\u001b[1;32m     68\u001b[0m \u001b[0;34m\u001b[0m\u001b[0m\n\u001b[1;32m     69\u001b[0m                     \u001b[0mout\u001b[0m\u001b[0;34m.\u001b[0m\u001b[0mwrite\u001b[0m\u001b[0;34m(\u001b[0m\u001b[0;34m'\\n'\u001b[0m\u001b[0;34m)\u001b[0m\u001b[0;34m\u001b[0m\u001b[0;34m\u001b[0m\u001b[0m\n",
      "\u001b[0;31mKeyboardInterrupt\u001b[0m: "
     ]
    }
   ],
   "source": [
    "file_names=['new_bert_score.txt','bert_score1.txt','bert_score2.txt','bert_score3.txt']\n",
    "i1=0\n",
    "i2=10000\n",
    "for n in range(0,4):\n",
    "    i1=n*10000\n",
    "    i2=(n+1)*10000\n",
    "\n",
    "\n",
    "    with open(file_names[n],'w') as out:\n",
    "        with open('bert_docs.txt','r', errors = 'ignore') as f:\n",
    "            beg=time()\n",
    "            for i,line in enumerate(f):\n",
    "                if i>=i2 or i<i1:\n",
    "                    continue\n",
    "                doc_id,desc,author,keywords,title,word=line.strip('\\n').split('\\t')\n",
    "\n",
    "                texts=list(filter(lambda x:x and any(map(lambda x:x!=' ',x)),\n",
    "                                  title.split('.')+author.split('.')+\n",
    "                                  desc.split('.')+keywords.split('.')+word.split('.')\n",
    "                                 ))\n",
    "\n",
    "\n",
    "                old_texts=texts\n",
    "                \n",
    "                for query_id in reverse_candidates[int(doc_id)]:\n",
    "                    \n",
    "                    texts=old_texts\n",
    "                    query = queries[query_id]                    \n",
    "\n",
    "                    texts=[new_text for text in texts for new_text in divide_text(text,3*len(query.split()))]\n",
    "                    \n",
    "                    texts = texts[:400]\n",
    "\n",
    "                    texts=list(map(lambda text:' '.join(text.split()),texts))\n",
    "                    \n",
    "                    s=set()\n",
    "\n",
    "                    texts=list(filter(lambda text:addset(s,text),texts))\n",
    "\n",
    "                                                                           \n",
    "                    \n",
    "\n",
    "                    out.write(doc_id+'\\t'+query)\n",
    "                    if texts:\n",
    "                        tmp=tokenizer.batch_encode_plus([*texts],\n",
    "                                            add_special_tokens=True, pad_to_max_length = True)\n",
    "                        batch=torch.tensor(tmp['input_ids'])\n",
    "                        batch=batch.to('cuda')\n",
    "\n",
    "\n",
    "\n",
    "                        all_cosss=torch.empty(0,device='cuda')\n",
    "\n",
    "                        batch_size = (305*35//batch.size(1))\n",
    "                        for little_batch in gen(batch,batch_size):\n",
    "                            with torch.no_grad():\n",
    "                                embs = torch.tensor(model(little_batch)[0])\n",
    "                                embs=torch.sum(embs, dim = 1)/(little_batch!=0).sum(dim=1)[...,None]\n",
    "                                coss=torch.nn.CosineSimilarity(dim = 1)\n",
    "                                cosss=coss(embs,query_embs[query_id].unsqueeze(0))\n",
    "                                all_cosss=torch.cat([all_cosss,cosss])\n",
    "                                del embs\n",
    "                        tmp=torch.argsort(all_cosss,descending=True)\n",
    "\n",
    "\n",
    "                        for ind in tmp:\n",
    "                            out.write('\\t'+str(all_cosss[ind].item())+','+texts[ind])\n",
    "                            \n",
    "                    out.write('\\n')\n",
    "\n",
    "                if i%10==0:\n",
    "                    print('i=',i)          \n",
    "            print((time()-beg)/(i+1))"
   ]
  },
  {
   "cell_type": "code",
   "execution_count": 20,
   "metadata": {
    "colab": {
     "base_uri": "https://localhost:8080/",
     "height": 34
    },
    "colab_type": "code",
    "id": "5Pa_wWwvV-1p",
    "outputId": "dfd3dd25-8389-4aa4-f4a1-1f1773a7f43a"
   },
   "outputs": [
    {
     "data": {
      "text/plain": [
       "60"
      ]
     },
     "execution_count": 20,
     "metadata": {
      "tags": []
     },
     "output_type": "execute_result"
    }
   ],
   "source": [
    "get_query_id['как приготовить вкусный соус к мантам ']"
   ]
  },
  {
   "cell_type": "code",
   "execution_count": 0,
   "metadata": {
    "colab": {},
    "colab_type": "code",
    "id": "U7xSpzfg7v0v"
   },
   "outputs": [],
   "source": [
    "file_names=['new_bert_score.txt','bert_score1.txt','bert_score2.txt','bert_score3.txt']\n",
    "with open('full_bert_score.txt', 'w') as out:\n",
    "    for fname in file_names:\n",
    "      with open(fname,'r') as f:\n",
    "          for line in f:\n",
    "              out.write(line)"
   ]
  },
  {
   "cell_type": "code",
   "execution_count": 0,
   "metadata": {
    "colab": {},
    "colab_type": "code",
    "id": "P1loLXMhKQAy"
   },
   "outputs": [],
   "source": [
    "new_passage_score=defaultdict(lambda :defaultdict(list))\n",
    "with open('full_bert_score.txt','r') as f:\n",
    "    for line in f:\n",
    "        a=line.strip('\\n').split('\\t')\n",
    "        doc_id=int(a[0])\n",
    "        query_id=get_query_id[a[1]]\n",
    "        if len(a)>2:\n",
    "            num = min(len(a[2:]), 10)\n",
    "            new_passage_score[query_id][doc_id] = []\n",
    "            for i in range(num):\n",
    "                el = a[i + 2].split(',')\n",
    "                new_passage_score[query_id][doc_id].append(float(el[0])) #(float(a[0],a[1])) таким образом увидишь предложение#на котором лучший score\n",
    "            new_passage_score[query_id][doc_id] = sorted(new_passage_score[query_id][doc_id], reverse = True)\n",
    "        else:\n",
    "            new_passage_score[query_id][doc_id]=[0]"
   ]
  },
  {
   "cell_type": "code",
   "execution_count": 27,
   "metadata": {
    "colab": {
     "base_uri": "https://localhost:8080/",
     "height": 1000
    },
    "colab_type": "code",
    "id": "9Ntj6tCrXcJk",
    "outputId": "2ff5ebcf-6d3b-4f0d-b8b2-e080b67f3d5c"
   },
   "outputs": [
    {
     "data": {
      "text/plain": [
       "[(74, 23.575311303138733),\n",
       " (51, 14.924426078796387),\n",
       " (78, 14.832701683044434),\n",
       " (33, 14.520832300186157),\n",
       " (83, 13.841354846954346),\n",
       " (75, 12.95711636543274),\n",
       " (70, 12.8143709897995),\n",
       " (40, 12.296384572982788),\n",
       " (85, 12.055616974830627),\n",
       " (82, 12.043102383613586),\n",
       " (95, 11.960473656654358),\n",
       " (46, 11.84893012046814),\n",
       " (87, 11.711156964302063),\n",
       " (10, 11.55693233013153),\n",
       " (88, 11.486310958862305),\n",
       " (93, 11.380895972251892),\n",
       " (41, 11.176677942276001),\n",
       " (39, 11.161603331565857),\n",
       " (35, 10.996569395065308),\n",
       " (48, 10.916077494621277),\n",
       " (60, 10.802944898605347),\n",
       " (37, 10.7686847448349),\n",
       " (5, 10.74406385421753),\n",
       " (18, 10.575344562530518),\n",
       " (26, 10.49280047416687),\n",
       " (6, 10.433235764503479),\n",
       " (29, 10.432743430137634),\n",
       " (96, 10.420588850975037),\n",
       " (32, 10.415822863578796),\n",
       " (15, 10.316182971000671),\n",
       " (12, 10.19524335861206),\n",
       " (63, 10.18180787563324),\n",
       " (71, 10.020356178283691),\n",
       " (1, 10.001189112663269),\n",
       " (24, 9.902076721191406),\n",
       " (73, 9.890551567077637),\n",
       " (4, 9.841912984848022),\n",
       " (94, 9.795693755149841),\n",
       " (58, 9.767301678657532),\n",
       " (86, 9.671187400817871),\n",
       " (42, 9.482437372207642),\n",
       " (76, 9.481287002563477),\n",
       " (53, 9.432189464569092),\n",
       " (8, 9.385662078857422),\n",
       " (9, 9.251942038536072),\n",
       " (72, 8.948029279708862),\n",
       " (77, 8.486538529396057),\n",
       " (61, 8.450307846069336),\n",
       " (68, 8.433800339698792),\n",
       " (7, 8.207570910453796),\n",
       " (59, 7.971651554107666),\n",
       " (55, 7.941616177558899),\n",
       " (27, 7.938022017478943),\n",
       " (36, 7.905680537223816),\n",
       " (25, 7.8636229038238525),\n",
       " (81, 7.720380425453186),\n",
       " (31, 7.635942697525024),\n",
       " (57, 7.5039345026016235),\n",
       " (50, 7.503853440284729),\n",
       " (34, 7.342877388000488),\n",
       " (44, 7.297125458717346),\n",
       " (62, 7.071483731269836),\n",
       " (13, 6.952877044677734),\n",
       " (65, 6.946789622306824),\n",
       " (54, 6.9298869371414185),\n",
       " (69, 6.7578959465026855),\n",
       " (43, 6.47232711315155),\n",
       " (28, 6.4254456758499146),\n",
       " (66, 6.415993571281433),\n",
       " (80, 6.250746846199036),\n",
       " (3, 6.247328519821167),\n",
       " (67, 6.222169995307922),\n",
       " (14, 6.004536747932434),\n",
       " (79, 5.982608795166016),\n",
       " (17, 5.855052471160889),\n",
       " (22, 5.765303373336792),\n",
       " (45, 5.409116148948669),\n",
       " (11, 5.022134184837341),\n",
       " (52, 5.007268190383911),\n",
       " (84, 4.505900740623474),\n",
       " (30, 4.315159320831299),\n",
       " (92, 4.0597522258758545),\n",
       " (21, 3.9724886417388916),\n",
       " (20, 3.740723133087158),\n",
       " (56, 2.997216582298279),\n",
       " (89, 1.299898624420166),\n",
       " (19, 1.1180537939071655),\n",
       " (16, 0.8812761306762695),\n",
       " (47, 0.48562347888946533),\n",
       " (49, 0.16519784927368164),\n",
       " (2, 0.01583576202392578),\n",
       " (23, -2.9958927631378174),\n",
       " (38, -10.504552721977234),\n",
       " (91, -60),\n",
       " (90, -60),\n",
       " (64, -60)]"
      ]
     },
     "execution_count": 27,
     "metadata": {
      "tags": []
     },
     "output_type": "execute_result"
    }
   ],
   "source": [
    "for qid in range(1,400):\n",
    "    for did in new_passage_score[qid]:\n",
    "      new_passage_score[qid][did] = (sum(new_passage_score[qid][did]) - 6)*10\n",
    "sorted(new_passage_score[1].items(),key=lambda x:x[1], reverse = True)"
   ]
  },
  {
   "cell_type": "code",
   "execution_count": 0,
   "metadata": {
    "colab": {},
    "colab_type": "code",
    "id": "AwjJDKEBLMRK"
   },
   "outputs": [],
   "source": [
    "ans='QueryId,DocumentId\\n'\n",
    "for query_id in range(1,400):\n",
    "    tmp=sorted(new_passage_score[query_id].items(),key=lambda x:x[1], reverse = True)[:10]\n",
    "    ans=reduce(lambda ans,score:ans+str(query_id)+','+str(score[0])+'\\n',tmp,ans)\n",
    "    \n",
    "with open('bertans.txt','w') as f:\n",
    "    f.write(ans)"
   ]
  },
  {
   "cell_type": "code",
   "execution_count": 0,
   "metadata": {
    "colab": {},
    "colab_type": "code",
    "id": "gZMPcARxMOsP"
   },
   "outputs": [],
   "source": [
    "bm_score=load_bm()\n",
    "passage_score=new_passage_score\n",
    "\n",
    "ans='QueryId,DocumentId\\n'\n",
    "\n",
    "alpha1=1\n",
    "alpha2=100\n",
    "\n",
    "for query_id in range(1,len(get_query)+1):\n",
    "    scores=dict()\n",
    "    for doc_id in candidates[query_id]:\n",
    "        scores[doc_id]=(bm_score[query_id][doc_id]*alpha1+\n",
    "                        passage_score[query_id][doc_id]*alpha2)\n",
    "    scores=sorted(scores.items(),key=lambda x:x[1], reverse = True)[:10]\n",
    "    ans=reduce(lambda ans,score:ans+str(query_id)+','+str(score[0])+'\\n',scores,ans)"
   ]
  },
  {
   "cell_type": "code",
   "execution_count": 0,
   "metadata": {
    "colab": {},
    "colab_type": "code",
    "id": "aa-8a-hvLfft"
   },
   "outputs": [],
   "source": [
    "i = 11\n",
    "with open(str(i) + 'combans.txt','w') as f:\n",
    "    f.write(ans)"
   ]
  }
 ],
 "metadata": {
  "accelerator": "GPU",
  "colab": {
   "collapsed_sections": [],
   "machine_shape": "hm",
   "name": "Copy of Text_passage.ipynb",
   "provenance": []
  },
  "kernelspec": {
   "display_name": "Python 3",
   "language": "python",
   "name": "python3"
  },
  "language_info": {
   "codemirror_mode": {
    "name": "ipython",
    "version": 3
   },
   "file_extension": ".py",
   "mimetype": "text/x-python",
   "name": "python",
   "nbconvert_exporter": "python",
   "pygments_lexer": "ipython3",
   "version": "3.7.6"
  },
  "widgets": {
   "application/vnd.jupyter.widget-state+json": {
    "177751daa0664112853bd45992344e48": {
     "model_module": "@jupyter-widgets/controls",
     "model_name": "DescriptionStyleModel",
     "state": {
      "_model_module": "@jupyter-widgets/controls",
      "_model_module_version": "1.5.0",
      "_model_name": "DescriptionStyleModel",
      "_view_count": null,
      "_view_module": "@jupyter-widgets/base",
      "_view_module_version": "1.2.0",
      "_view_name": "StyleView",
      "description_width": ""
     }
    },
    "18923b06e9684de1be8592c79065370a": {
     "model_module": "@jupyter-widgets/controls",
     "model_name": "FloatProgressModel",
     "state": {
      "_dom_classes": [],
      "_model_module": "@jupyter-widgets/controls",
      "_model_module_version": "1.5.0",
      "_model_name": "FloatProgressModel",
      "_view_count": null,
      "_view_module": "@jupyter-widgets/controls",
      "_view_module_version": "1.5.0",
      "_view_name": "ProgressView",
      "bar_style": "success",
      "description": "Downloading: 100%",
      "description_tooltip": null,
      "layout": "IPY_MODEL_592a3bb0653c438ca52d8616d1f21bc4",
      "max": 642,
      "min": 0,
      "orientation": "horizontal",
      "style": "IPY_MODEL_4f82210550714e0398db8ac73dc02892",
      "value": 642
     }
    },
    "1f4c7ea605d1480e84b080d9f9f1b4fb": {
     "model_module": "@jupyter-widgets/base",
     "model_name": "LayoutModel",
     "state": {
      "_model_module": "@jupyter-widgets/base",
      "_model_module_version": "1.2.0",
      "_model_name": "LayoutModel",
      "_view_count": null,
      "_view_module": "@jupyter-widgets/base",
      "_view_module_version": "1.2.0",
      "_view_name": "LayoutView",
      "align_content": null,
      "align_items": null,
      "align_self": null,
      "border": null,
      "bottom": null,
      "display": null,
      "flex": null,
      "flex_flow": null,
      "grid_area": null,
      "grid_auto_columns": null,
      "grid_auto_flow": null,
      "grid_auto_rows": null,
      "grid_column": null,
      "grid_gap": null,
      "grid_row": null,
      "grid_template_areas": null,
      "grid_template_columns": null,
      "grid_template_rows": null,
      "height": null,
      "justify_content": null,
      "justify_items": null,
      "left": null,
      "margin": null,
      "max_height": null,
      "max_width": null,
      "min_height": null,
      "min_width": null,
      "object_fit": null,
      "object_position": null,
      "order": null,
      "overflow": null,
      "overflow_x": null,
      "overflow_y": null,
      "padding": null,
      "right": null,
      "top": null,
      "visibility": null,
      "width": null
     }
    },
    "2138b9ddc6e04c6e8e31bdb93a636d5e": {
     "model_module": "@jupyter-widgets/controls",
     "model_name": "HBoxModel",
     "state": {
      "_dom_classes": [],
      "_model_module": "@jupyter-widgets/controls",
      "_model_module_version": "1.5.0",
      "_model_name": "HBoxModel",
      "_view_count": null,
      "_view_module": "@jupyter-widgets/controls",
      "_view_module_version": "1.5.0",
      "_view_name": "HBoxView",
      "box_style": "",
      "children": [
       "IPY_MODEL_a261eea0dd094414b0e486221731c8cc",
       "IPY_MODEL_6d45e1f0d0ff430690ab7c339a2084ca"
      ],
      "layout": "IPY_MODEL_b055caec519c49048e102055683f903f"
     }
    },
    "2563afdc75e141c9a87cea2040ec18a6": {
     "model_module": "@jupyter-widgets/controls",
     "model_name": "DescriptionStyleModel",
     "state": {
      "_model_module": "@jupyter-widgets/controls",
      "_model_module_version": "1.5.0",
      "_model_name": "DescriptionStyleModel",
      "_view_count": null,
      "_view_module": "@jupyter-widgets/base",
      "_view_module_version": "1.2.0",
      "_view_name": "StyleView",
      "description_width": ""
     }
    },
    "25a66eb569e24b2b971e4c36c2858dbe": {
     "model_module": "@jupyter-widgets/controls",
     "model_name": "FloatProgressModel",
     "state": {
      "_dom_classes": [],
      "_model_module": "@jupyter-widgets/controls",
      "_model_module_version": "1.5.0",
      "_model_name": "FloatProgressModel",
      "_view_count": null,
      "_view_module": "@jupyter-widgets/controls",
      "_view_module_version": "1.5.0",
      "_view_name": "ProgressView",
      "bar_style": "success",
      "description": "Downloading: 100%",
      "description_tooltip": null,
      "layout": "IPY_MODEL_f9aa992ec4464936970dace6e53af8da",
      "max": 112,
      "min": 0,
      "orientation": "horizontal",
      "style": "IPY_MODEL_8e1c2635d4534556a913ee021865ffec",
      "value": 112
     }
    },
    "26be6532c44649dea5d47bc30033aa6d": {
     "model_module": "@jupyter-widgets/controls",
     "model_name": "ProgressStyleModel",
     "state": {
      "_model_module": "@jupyter-widgets/controls",
      "_model_module_version": "1.5.0",
      "_model_name": "ProgressStyleModel",
      "_view_count": null,
      "_view_module": "@jupyter-widgets/base",
      "_view_module_version": "1.2.0",
      "_view_name": "StyleView",
      "bar_color": null,
      "description_width": "initial"
     }
    },
    "33b742daab134c828cace4eae93fd2bb": {
     "model_module": "@jupyter-widgets/controls",
     "model_name": "ProgressStyleModel",
     "state": {
      "_model_module": "@jupyter-widgets/controls",
      "_model_module_version": "1.5.0",
      "_model_name": "ProgressStyleModel",
      "_view_count": null,
      "_view_module": "@jupyter-widgets/base",
      "_view_module_version": "1.2.0",
      "_view_name": "StyleView",
      "bar_color": null,
      "description_width": "initial"
     }
    },
    "34a15376b6fa46f0ad33ba0c0edb93a4": {
     "model_module": "@jupyter-widgets/base",
     "model_name": "LayoutModel",
     "state": {
      "_model_module": "@jupyter-widgets/base",
      "_model_module_version": "1.2.0",
      "_model_name": "LayoutModel",
      "_view_count": null,
      "_view_module": "@jupyter-widgets/base",
      "_view_module_version": "1.2.0",
      "_view_name": "LayoutView",
      "align_content": null,
      "align_items": null,
      "align_self": null,
      "border": null,
      "bottom": null,
      "display": null,
      "flex": null,
      "flex_flow": null,
      "grid_area": null,
      "grid_auto_columns": null,
      "grid_auto_flow": null,
      "grid_auto_rows": null,
      "grid_column": null,
      "grid_gap": null,
      "grid_row": null,
      "grid_template_areas": null,
      "grid_template_columns": null,
      "grid_template_rows": null,
      "height": null,
      "justify_content": null,
      "justify_items": null,
      "left": null,
      "margin": null,
      "max_height": null,
      "max_width": null,
      "min_height": null,
      "min_width": null,
      "object_fit": null,
      "object_position": null,
      "order": null,
      "overflow": null,
      "overflow_x": null,
      "overflow_y": null,
      "padding": null,
      "right": null,
      "top": null,
      "visibility": null,
      "width": null
     }
    },
    "373f7c5050b6477f90e89f77032c6f38": {
     "model_module": "@jupyter-widgets/base",
     "model_name": "LayoutModel",
     "state": {
      "_model_module": "@jupyter-widgets/base",
      "_model_module_version": "1.2.0",
      "_model_name": "LayoutModel",
      "_view_count": null,
      "_view_module": "@jupyter-widgets/base",
      "_view_module_version": "1.2.0",
      "_view_name": "LayoutView",
      "align_content": null,
      "align_items": null,
      "align_self": null,
      "border": null,
      "bottom": null,
      "display": null,
      "flex": null,
      "flex_flow": null,
      "grid_area": null,
      "grid_auto_columns": null,
      "grid_auto_flow": null,
      "grid_auto_rows": null,
      "grid_column": null,
      "grid_gap": null,
      "grid_row": null,
      "grid_template_areas": null,
      "grid_template_columns": null,
      "grid_template_rows": null,
      "height": null,
      "justify_content": null,
      "justify_items": null,
      "left": null,
      "margin": null,
      "max_height": null,
      "max_width": null,
      "min_height": null,
      "min_width": null,
      "object_fit": null,
      "object_position": null,
      "order": null,
      "overflow": null,
      "overflow_x": null,
      "overflow_y": null,
      "padding": null,
      "right": null,
      "top": null,
      "visibility": null,
      "width": null
     }
    },
    "3b05ec2139cb44249089a05013bc46dc": {
     "model_module": "@jupyter-widgets/controls",
     "model_name": "DescriptionStyleModel",
     "state": {
      "_model_module": "@jupyter-widgets/controls",
      "_model_module_version": "1.5.0",
      "_model_name": "DescriptionStyleModel",
      "_view_count": null,
      "_view_module": "@jupyter-widgets/base",
      "_view_module_version": "1.2.0",
      "_view_name": "StyleView",
      "description_width": ""
     }
    },
    "40dc10d433a846f99e5e810b85a860aa": {
     "model_module": "@jupyter-widgets/controls",
     "model_name": "HTMLModel",
     "state": {
      "_dom_classes": [],
      "_model_module": "@jupyter-widgets/controls",
      "_model_module_version": "1.5.0",
      "_model_name": "HTMLModel",
      "_view_count": null,
      "_view_module": "@jupyter-widgets/controls",
      "_view_module_version": "1.5.0",
      "_view_name": "HTMLView",
      "description": "",
      "description_tooltip": null,
      "layout": "IPY_MODEL_8eca3608ff2c447f8cb60e499e4b6ff5",
      "placeholder": "​",
      "style": "IPY_MODEL_177751daa0664112853bd45992344e48",
      "value": " 112/112 [00:00&lt;00:00, 130B/s]"
     }
    },
    "4141057b8ce24dd6a986cfe9b9671bdc": {
     "model_module": "@jupyter-widgets/controls",
     "model_name": "HBoxModel",
     "state": {
      "_dom_classes": [],
      "_model_module": "@jupyter-widgets/controls",
      "_model_module_version": "1.5.0",
      "_model_name": "HBoxModel",
      "_view_count": null,
      "_view_module": "@jupyter-widgets/controls",
      "_view_module_version": "1.5.0",
      "_view_name": "HBoxView",
      "box_style": "",
      "children": [
       "IPY_MODEL_25a66eb569e24b2b971e4c36c2858dbe",
       "IPY_MODEL_40dc10d433a846f99e5e810b85a860aa"
      ],
      "layout": "IPY_MODEL_a56663f24f9343b89a3f849d8bbdba9c"
     }
    },
    "46baf071ccf548d4af56dd958f126c9b": {
     "model_module": "@jupyter-widgets/controls",
     "model_name": "DescriptionStyleModel",
     "state": {
      "_model_module": "@jupyter-widgets/controls",
      "_model_module_version": "1.5.0",
      "_model_name": "DescriptionStyleModel",
      "_view_count": null,
      "_view_module": "@jupyter-widgets/base",
      "_view_module_version": "1.2.0",
      "_view_name": "StyleView",
      "description_width": ""
     }
    },
    "4eec0347ddc04d56adb726d26ec1faf1": {
     "model_module": "@jupyter-widgets/controls",
     "model_name": "HBoxModel",
     "state": {
      "_dom_classes": [],
      "_model_module": "@jupyter-widgets/controls",
      "_model_module_version": "1.5.0",
      "_model_name": "HBoxModel",
      "_view_count": null,
      "_view_module": "@jupyter-widgets/controls",
      "_view_module_version": "1.5.0",
      "_view_name": "HBoxView",
      "box_style": "",
      "children": [
       "IPY_MODEL_d0542ee3f66a4dc4adecef93f4f6e0aa",
       "IPY_MODEL_a36b8be39811480ebcaa58a741f24c62"
      ],
      "layout": "IPY_MODEL_a7311591dd6041f38deb96f36aa824ac"
     }
    },
    "4f82210550714e0398db8ac73dc02892": {
     "model_module": "@jupyter-widgets/controls",
     "model_name": "ProgressStyleModel",
     "state": {
      "_model_module": "@jupyter-widgets/controls",
      "_model_module_version": "1.5.0",
      "_model_name": "ProgressStyleModel",
      "_view_count": null,
      "_view_module": "@jupyter-widgets/base",
      "_view_module_version": "1.2.0",
      "_view_name": "StyleView",
      "bar_color": null,
      "description_width": "initial"
     }
    },
    "592a3bb0653c438ca52d8616d1f21bc4": {
     "model_module": "@jupyter-widgets/base",
     "model_name": "LayoutModel",
     "state": {
      "_model_module": "@jupyter-widgets/base",
      "_model_module_version": "1.2.0",
      "_model_name": "LayoutModel",
      "_view_count": null,
      "_view_module": "@jupyter-widgets/base",
      "_view_module_version": "1.2.0",
      "_view_name": "LayoutView",
      "align_content": null,
      "align_items": null,
      "align_self": null,
      "border": null,
      "bottom": null,
      "display": null,
      "flex": null,
      "flex_flow": null,
      "grid_area": null,
      "grid_auto_columns": null,
      "grid_auto_flow": null,
      "grid_auto_rows": null,
      "grid_column": null,
      "grid_gap": null,
      "grid_row": null,
      "grid_template_areas": null,
      "grid_template_columns": null,
      "grid_template_rows": null,
      "height": null,
      "justify_content": null,
      "justify_items": null,
      "left": null,
      "margin": null,
      "max_height": null,
      "max_width": null,
      "min_height": null,
      "min_width": null,
      "object_fit": null,
      "object_position": null,
      "order": null,
      "overflow": null,
      "overflow_x": null,
      "overflow_y": null,
      "padding": null,
      "right": null,
      "top": null,
      "visibility": null,
      "width": null
     }
    },
    "676f521546a143cf86dc90dffac179fb": {
     "model_module": "@jupyter-widgets/base",
     "model_name": "LayoutModel",
     "state": {
      "_model_module": "@jupyter-widgets/base",
      "_model_module_version": "1.2.0",
      "_model_name": "LayoutModel",
      "_view_count": null,
      "_view_module": "@jupyter-widgets/base",
      "_view_module_version": "1.2.0",
      "_view_name": "LayoutView",
      "align_content": null,
      "align_items": null,
      "align_self": null,
      "border": null,
      "bottom": null,
      "display": null,
      "flex": null,
      "flex_flow": null,
      "grid_area": null,
      "grid_auto_columns": null,
      "grid_auto_flow": null,
      "grid_auto_rows": null,
      "grid_column": null,
      "grid_gap": null,
      "grid_row": null,
      "grid_template_areas": null,
      "grid_template_columns": null,
      "grid_template_rows": null,
      "height": null,
      "justify_content": null,
      "justify_items": null,
      "left": null,
      "margin": null,
      "max_height": null,
      "max_width": null,
      "min_height": null,
      "min_width": null,
      "object_fit": null,
      "object_position": null,
      "order": null,
      "overflow": null,
      "overflow_x": null,
      "overflow_y": null,
      "padding": null,
      "right": null,
      "top": null,
      "visibility": null,
      "width": null
     }
    },
    "6d45e1f0d0ff430690ab7c339a2084ca": {
     "model_module": "@jupyter-widgets/controls",
     "model_name": "HTMLModel",
     "state": {
      "_dom_classes": [],
      "_model_module": "@jupyter-widgets/controls",
      "_model_module_version": "1.5.0",
      "_model_name": "HTMLModel",
      "_view_count": null,
      "_view_module": "@jupyter-widgets/controls",
      "_view_module_version": "1.5.0",
      "_view_name": "HTMLView",
      "description": "",
      "description_tooltip": null,
      "layout": "IPY_MODEL_1f4c7ea605d1480e84b080d9f9f1b4fb",
      "placeholder": "​",
      "style": "IPY_MODEL_3b05ec2139cb44249089a05013bc46dc",
      "value": " 24.0/24.0 [00:00&lt;00:00, 182B/s]"
     }
    },
    "86f3ef468ed44a79bc72ba8eac8a74b9": {
     "model_module": "@jupyter-widgets/base",
     "model_name": "LayoutModel",
     "state": {
      "_model_module": "@jupyter-widgets/base",
      "_model_module_version": "1.2.0",
      "_model_name": "LayoutModel",
      "_view_count": null,
      "_view_module": "@jupyter-widgets/base",
      "_view_module_version": "1.2.0",
      "_view_name": "LayoutView",
      "align_content": null,
      "align_items": null,
      "align_self": null,
      "border": null,
      "bottom": null,
      "display": null,
      "flex": null,
      "flex_flow": null,
      "grid_area": null,
      "grid_auto_columns": null,
      "grid_auto_flow": null,
      "grid_auto_rows": null,
      "grid_column": null,
      "grid_gap": null,
      "grid_row": null,
      "grid_template_areas": null,
      "grid_template_columns": null,
      "grid_template_rows": null,
      "height": null,
      "justify_content": null,
      "justify_items": null,
      "left": null,
      "margin": null,
      "max_height": null,
      "max_width": null,
      "min_height": null,
      "min_width": null,
      "object_fit": null,
      "object_position": null,
      "order": null,
      "overflow": null,
      "overflow_x": null,
      "overflow_y": null,
      "padding": null,
      "right": null,
      "top": null,
      "visibility": null,
      "width": null
     }
    },
    "8b7558b8225d49c5a55f8037f4c4c29b": {
     "model_module": "@jupyter-widgets/controls",
     "model_name": "ProgressStyleModel",
     "state": {
      "_model_module": "@jupyter-widgets/controls",
      "_model_module_version": "1.5.0",
      "_model_name": "ProgressStyleModel",
      "_view_count": null,
      "_view_module": "@jupyter-widgets/base",
      "_view_module_version": "1.2.0",
      "_view_name": "StyleView",
      "bar_color": null,
      "description_width": "initial"
     }
    },
    "8e1c2635d4534556a913ee021865ffec": {
     "model_module": "@jupyter-widgets/controls",
     "model_name": "ProgressStyleModel",
     "state": {
      "_model_module": "@jupyter-widgets/controls",
      "_model_module_version": "1.5.0",
      "_model_name": "ProgressStyleModel",
      "_view_count": null,
      "_view_module": "@jupyter-widgets/base",
      "_view_module_version": "1.2.0",
      "_view_name": "StyleView",
      "bar_color": null,
      "description_width": "initial"
     }
    },
    "8eca3608ff2c447f8cb60e499e4b6ff5": {
     "model_module": "@jupyter-widgets/base",
     "model_name": "LayoutModel",
     "state": {
      "_model_module": "@jupyter-widgets/base",
      "_model_module_version": "1.2.0",
      "_model_name": "LayoutModel",
      "_view_count": null,
      "_view_module": "@jupyter-widgets/base",
      "_view_module_version": "1.2.0",
      "_view_name": "LayoutView",
      "align_content": null,
      "align_items": null,
      "align_self": null,
      "border": null,
      "bottom": null,
      "display": null,
      "flex": null,
      "flex_flow": null,
      "grid_area": null,
      "grid_auto_columns": null,
      "grid_auto_flow": null,
      "grid_auto_rows": null,
      "grid_column": null,
      "grid_gap": null,
      "grid_row": null,
      "grid_template_areas": null,
      "grid_template_columns": null,
      "grid_template_rows": null,
      "height": null,
      "justify_content": null,
      "justify_items": null,
      "left": null,
      "margin": null,
      "max_height": null,
      "max_width": null,
      "min_height": null,
      "min_width": null,
      "object_fit": null,
      "object_position": null,
      "order": null,
      "overflow": null,
      "overflow_x": null,
      "overflow_y": null,
      "padding": null,
      "right": null,
      "top": null,
      "visibility": null,
      "width": null
     }
    },
    "a261eea0dd094414b0e486221731c8cc": {
     "model_module": "@jupyter-widgets/controls",
     "model_name": "FloatProgressModel",
     "state": {
      "_dom_classes": [],
      "_model_module": "@jupyter-widgets/controls",
      "_model_module_version": "1.5.0",
      "_model_name": "FloatProgressModel",
      "_view_count": null,
      "_view_module": "@jupyter-widgets/controls",
      "_view_module_version": "1.5.0",
      "_view_name": "ProgressView",
      "bar_style": "success",
      "description": "Downloading: 100%",
      "description_tooltip": null,
      "layout": "IPY_MODEL_f4307be95fc74e6facd43049a977493a",
      "max": 24,
      "min": 0,
      "orientation": "horizontal",
      "style": "IPY_MODEL_26be6532c44649dea5d47bc30033aa6d",
      "value": 24
     }
    },
    "a36b8be39811480ebcaa58a741f24c62": {
     "model_module": "@jupyter-widgets/controls",
     "model_name": "HTMLModel",
     "state": {
      "_dom_classes": [],
      "_model_module": "@jupyter-widgets/controls",
      "_model_module_version": "1.5.0",
      "_model_name": "HTMLModel",
      "_view_count": null,
      "_view_module": "@jupyter-widgets/controls",
      "_view_module_version": "1.5.0",
      "_view_name": "HTMLView",
      "description": "",
      "description_tooltip": null,
      "layout": "IPY_MODEL_86f3ef468ed44a79bc72ba8eac8a74b9",
      "placeholder": "​",
      "style": "IPY_MODEL_2563afdc75e141c9a87cea2040ec18a6",
      "value": " 711M/711M [00:14&lt;00:00, 48.9MB/s]"
     }
    },
    "a56663f24f9343b89a3f849d8bbdba9c": {
     "model_module": "@jupyter-widgets/base",
     "model_name": "LayoutModel",
     "state": {
      "_model_module": "@jupyter-widgets/base",
      "_model_module_version": "1.2.0",
      "_model_name": "LayoutModel",
      "_view_count": null,
      "_view_module": "@jupyter-widgets/base",
      "_view_module_version": "1.2.0",
      "_view_name": "LayoutView",
      "align_content": null,
      "align_items": null,
      "align_self": null,
      "border": null,
      "bottom": null,
      "display": null,
      "flex": null,
      "flex_flow": null,
      "grid_area": null,
      "grid_auto_columns": null,
      "grid_auto_flow": null,
      "grid_auto_rows": null,
      "grid_column": null,
      "grid_gap": null,
      "grid_row": null,
      "grid_template_areas": null,
      "grid_template_columns": null,
      "grid_template_rows": null,
      "height": null,
      "justify_content": null,
      "justify_items": null,
      "left": null,
      "margin": null,
      "max_height": null,
      "max_width": null,
      "min_height": null,
      "min_width": null,
      "object_fit": null,
      "object_position": null,
      "order": null,
      "overflow": null,
      "overflow_x": null,
      "overflow_y": null,
      "padding": null,
      "right": null,
      "top": null,
      "visibility": null,
      "width": null
     }
    },
    "a7311591dd6041f38deb96f36aa824ac": {
     "model_module": "@jupyter-widgets/base",
     "model_name": "LayoutModel",
     "state": {
      "_model_module": "@jupyter-widgets/base",
      "_model_module_version": "1.2.0",
      "_model_name": "LayoutModel",
      "_view_count": null,
      "_view_module": "@jupyter-widgets/base",
      "_view_module_version": "1.2.0",
      "_view_name": "LayoutView",
      "align_content": null,
      "align_items": null,
      "align_self": null,
      "border": null,
      "bottom": null,
      "display": null,
      "flex": null,
      "flex_flow": null,
      "grid_area": null,
      "grid_auto_columns": null,
      "grid_auto_flow": null,
      "grid_auto_rows": null,
      "grid_column": null,
      "grid_gap": null,
      "grid_row": null,
      "grid_template_areas": null,
      "grid_template_columns": null,
      "grid_template_rows": null,
      "height": null,
      "justify_content": null,
      "justify_items": null,
      "left": null,
      "margin": null,
      "max_height": null,
      "max_width": null,
      "min_height": null,
      "min_width": null,
      "object_fit": null,
      "object_position": null,
      "order": null,
      "overflow": null,
      "overflow_x": null,
      "overflow_y": null,
      "padding": null,
      "right": null,
      "top": null,
      "visibility": null,
      "width": null
     }
    },
    "ae26b10211964935b948b3b06cf706f3": {
     "model_module": "@jupyter-widgets/controls",
     "model_name": "FloatProgressModel",
     "state": {
      "_dom_classes": [],
      "_model_module": "@jupyter-widgets/controls",
      "_model_module_version": "1.5.0",
      "_model_name": "FloatProgressModel",
      "_view_count": null,
      "_view_module": "@jupyter-widgets/controls",
      "_view_module_version": "1.5.0",
      "_view_name": "ProgressView",
      "bar_style": "success",
      "description": "Downloading: 100%",
      "description_tooltip": null,
      "layout": "IPY_MODEL_b3e69e000b244936bdabf35edccdf567",
      "max": 1649718,
      "min": 0,
      "orientation": "horizontal",
      "style": "IPY_MODEL_8b7558b8225d49c5a55f8037f4c4c29b",
      "value": 1649718
     }
    },
    "b055caec519c49048e102055683f903f": {
     "model_module": "@jupyter-widgets/base",
     "model_name": "LayoutModel",
     "state": {
      "_model_module": "@jupyter-widgets/base",
      "_model_module_version": "1.2.0",
      "_model_name": "LayoutModel",
      "_view_count": null,
      "_view_module": "@jupyter-widgets/base",
      "_view_module_version": "1.2.0",
      "_view_name": "LayoutView",
      "align_content": null,
      "align_items": null,
      "align_self": null,
      "border": null,
      "bottom": null,
      "display": null,
      "flex": null,
      "flex_flow": null,
      "grid_area": null,
      "grid_auto_columns": null,
      "grid_auto_flow": null,
      "grid_auto_rows": null,
      "grid_column": null,
      "grid_gap": null,
      "grid_row": null,
      "grid_template_areas": null,
      "grid_template_columns": null,
      "grid_template_rows": null,
      "height": null,
      "justify_content": null,
      "justify_items": null,
      "left": null,
      "margin": null,
      "max_height": null,
      "max_width": null,
      "min_height": null,
      "min_width": null,
      "object_fit": null,
      "object_position": null,
      "order": null,
      "overflow": null,
      "overflow_x": null,
      "overflow_y": null,
      "padding": null,
      "right": null,
      "top": null,
      "visibility": null,
      "width": null
     }
    },
    "b3e69e000b244936bdabf35edccdf567": {
     "model_module": "@jupyter-widgets/base",
     "model_name": "LayoutModel",
     "state": {
      "_model_module": "@jupyter-widgets/base",
      "_model_module_version": "1.2.0",
      "_model_name": "LayoutModel",
      "_view_count": null,
      "_view_module": "@jupyter-widgets/base",
      "_view_module_version": "1.2.0",
      "_view_name": "LayoutView",
      "align_content": null,
      "align_items": null,
      "align_self": null,
      "border": null,
      "bottom": null,
      "display": null,
      "flex": null,
      "flex_flow": null,
      "grid_area": null,
      "grid_auto_columns": null,
      "grid_auto_flow": null,
      "grid_auto_rows": null,
      "grid_column": null,
      "grid_gap": null,
      "grid_row": null,
      "grid_template_areas": null,
      "grid_template_columns": null,
      "grid_template_rows": null,
      "height": null,
      "justify_content": null,
      "justify_items": null,
      "left": null,
      "margin": null,
      "max_height": null,
      "max_width": null,
      "min_height": null,
      "min_width": null,
      "object_fit": null,
      "object_position": null,
      "order": null,
      "overflow": null,
      "overflow_x": null,
      "overflow_y": null,
      "padding": null,
      "right": null,
      "top": null,
      "visibility": null,
      "width": null
     }
    },
    "c25526a47de0421fb74b2adc113e9cbb": {
     "model_module": "@jupyter-widgets/controls",
     "model_name": "HBoxModel",
     "state": {
      "_dom_classes": [],
      "_model_module": "@jupyter-widgets/controls",
      "_model_module_version": "1.5.0",
      "_model_name": "HBoxModel",
      "_view_count": null,
      "_view_module": "@jupyter-widgets/controls",
      "_view_module_version": "1.5.0",
      "_view_name": "HBoxView",
      "box_style": "",
      "children": [
       "IPY_MODEL_18923b06e9684de1be8592c79065370a",
       "IPY_MODEL_ecab6925152646d38fbdf1ac2d364bac"
      ],
      "layout": "IPY_MODEL_373f7c5050b6477f90e89f77032c6f38"
     }
    },
    "c33974eb8042427caa9a23cb453e1743": {
     "model_module": "@jupyter-widgets/controls",
     "model_name": "DescriptionStyleModel",
     "state": {
      "_model_module": "@jupyter-widgets/controls",
      "_model_module_version": "1.5.0",
      "_model_name": "DescriptionStyleModel",
      "_view_count": null,
      "_view_module": "@jupyter-widgets/base",
      "_view_module_version": "1.2.0",
      "_view_name": "StyleView",
      "description_width": ""
     }
    },
    "cb89cad8fff145bab833bd8a2681e1ad": {
     "model_module": "@jupyter-widgets/base",
     "model_name": "LayoutModel",
     "state": {
      "_model_module": "@jupyter-widgets/base",
      "_model_module_version": "1.2.0",
      "_model_name": "LayoutModel",
      "_view_count": null,
      "_view_module": "@jupyter-widgets/base",
      "_view_module_version": "1.2.0",
      "_view_name": "LayoutView",
      "align_content": null,
      "align_items": null,
      "align_self": null,
      "border": null,
      "bottom": null,
      "display": null,
      "flex": null,
      "flex_flow": null,
      "grid_area": null,
      "grid_auto_columns": null,
      "grid_auto_flow": null,
      "grid_auto_rows": null,
      "grid_column": null,
      "grid_gap": null,
      "grid_row": null,
      "grid_template_areas": null,
      "grid_template_columns": null,
      "grid_template_rows": null,
      "height": null,
      "justify_content": null,
      "justify_items": null,
      "left": null,
      "margin": null,
      "max_height": null,
      "max_width": null,
      "min_height": null,
      "min_width": null,
      "object_fit": null,
      "object_position": null,
      "order": null,
      "overflow": null,
      "overflow_x": null,
      "overflow_y": null,
      "padding": null,
      "right": null,
      "top": null,
      "visibility": null,
      "width": null
     }
    },
    "d0542ee3f66a4dc4adecef93f4f6e0aa": {
     "model_module": "@jupyter-widgets/controls",
     "model_name": "FloatProgressModel",
     "state": {
      "_dom_classes": [],
      "_model_module": "@jupyter-widgets/controls",
      "_model_module_version": "1.5.0",
      "_model_name": "FloatProgressModel",
      "_view_count": null,
      "_view_module": "@jupyter-widgets/controls",
      "_view_module_version": "1.5.0",
      "_view_name": "ProgressView",
      "bar_style": "success",
      "description": "Downloading: 100%",
      "description_tooltip": null,
      "layout": "IPY_MODEL_da3a2b04903344f68eccb120a46627f7",
      "max": 711456784,
      "min": 0,
      "orientation": "horizontal",
      "style": "IPY_MODEL_33b742daab134c828cace4eae93fd2bb",
      "value": 711456784
     }
    },
    "d50146abee3b42e9bf32c0594788aae3": {
     "model_module": "@jupyter-widgets/controls",
     "model_name": "HTMLModel",
     "state": {
      "_dom_classes": [],
      "_model_module": "@jupyter-widgets/controls",
      "_model_module_version": "1.5.0",
      "_model_name": "HTMLModel",
      "_view_count": null,
      "_view_module": "@jupyter-widgets/controls",
      "_view_module_version": "1.5.0",
      "_view_name": "HTMLView",
      "description": "",
      "description_tooltip": null,
      "layout": "IPY_MODEL_cb89cad8fff145bab833bd8a2681e1ad",
      "placeholder": "​",
      "style": "IPY_MODEL_c33974eb8042427caa9a23cb453e1743",
      "value": " 1.65M/1.65M [00:02&lt;00:00, 758kB/s]"
     }
    },
    "da3a2b04903344f68eccb120a46627f7": {
     "model_module": "@jupyter-widgets/base",
     "model_name": "LayoutModel",
     "state": {
      "_model_module": "@jupyter-widgets/base",
      "_model_module_version": "1.2.0",
      "_model_name": "LayoutModel",
      "_view_count": null,
      "_view_module": "@jupyter-widgets/base",
      "_view_module_version": "1.2.0",
      "_view_name": "LayoutView",
      "align_content": null,
      "align_items": null,
      "align_self": null,
      "border": null,
      "bottom": null,
      "display": null,
      "flex": null,
      "flex_flow": null,
      "grid_area": null,
      "grid_auto_columns": null,
      "grid_auto_flow": null,
      "grid_auto_rows": null,
      "grid_column": null,
      "grid_gap": null,
      "grid_row": null,
      "grid_template_areas": null,
      "grid_template_columns": null,
      "grid_template_rows": null,
      "height": null,
      "justify_content": null,
      "justify_items": null,
      "left": null,
      "margin": null,
      "max_height": null,
      "max_width": null,
      "min_height": null,
      "min_width": null,
      "object_fit": null,
      "object_position": null,
      "order": null,
      "overflow": null,
      "overflow_x": null,
      "overflow_y": null,
      "padding": null,
      "right": null,
      "top": null,
      "visibility": null,
      "width": null
     }
    },
    "ecab6925152646d38fbdf1ac2d364bac": {
     "model_module": "@jupyter-widgets/controls",
     "model_name": "HTMLModel",
     "state": {
      "_dom_classes": [],
      "_model_module": "@jupyter-widgets/controls",
      "_model_module_version": "1.5.0",
      "_model_name": "HTMLModel",
      "_view_count": null,
      "_view_module": "@jupyter-widgets/controls",
      "_view_module_version": "1.5.0",
      "_view_name": "HTMLView",
      "description": "",
      "description_tooltip": null,
      "layout": "IPY_MODEL_34a15376b6fa46f0ad33ba0c0edb93a4",
      "placeholder": "​",
      "style": "IPY_MODEL_46baf071ccf548d4af56dd958f126c9b",
      "value": " 642/642 [00:00&lt;00:00, 1.98kB/s]"
     }
    },
    "ed842582dadd42d1a665031df0a6b98f": {
     "model_module": "@jupyter-widgets/controls",
     "model_name": "HBoxModel",
     "state": {
      "_dom_classes": [],
      "_model_module": "@jupyter-widgets/controls",
      "_model_module_version": "1.5.0",
      "_model_name": "HBoxModel",
      "_view_count": null,
      "_view_module": "@jupyter-widgets/controls",
      "_view_module_version": "1.5.0",
      "_view_name": "HBoxView",
      "box_style": "",
      "children": [
       "IPY_MODEL_ae26b10211964935b948b3b06cf706f3",
       "IPY_MODEL_d50146abee3b42e9bf32c0594788aae3"
      ],
      "layout": "IPY_MODEL_676f521546a143cf86dc90dffac179fb"
     }
    },
    "f4307be95fc74e6facd43049a977493a": {
     "model_module": "@jupyter-widgets/base",
     "model_name": "LayoutModel",
     "state": {
      "_model_module": "@jupyter-widgets/base",
      "_model_module_version": "1.2.0",
      "_model_name": "LayoutModel",
      "_view_count": null,
      "_view_module": "@jupyter-widgets/base",
      "_view_module_version": "1.2.0",
      "_view_name": "LayoutView",
      "align_content": null,
      "align_items": null,
      "align_self": null,
      "border": null,
      "bottom": null,
      "display": null,
      "flex": null,
      "flex_flow": null,
      "grid_area": null,
      "grid_auto_columns": null,
      "grid_auto_flow": null,
      "grid_auto_rows": null,
      "grid_column": null,
      "grid_gap": null,
      "grid_row": null,
      "grid_template_areas": null,
      "grid_template_columns": null,
      "grid_template_rows": null,
      "height": null,
      "justify_content": null,
      "justify_items": null,
      "left": null,
      "margin": null,
      "max_height": null,
      "max_width": null,
      "min_height": null,
      "min_width": null,
      "object_fit": null,
      "object_position": null,
      "order": null,
      "overflow": null,
      "overflow_x": null,
      "overflow_y": null,
      "padding": null,
      "right": null,
      "top": null,
      "visibility": null,
      "width": null
     }
    },
    "f9aa992ec4464936970dace6e53af8da": {
     "model_module": "@jupyter-widgets/base",
     "model_name": "LayoutModel",
     "state": {
      "_model_module": "@jupyter-widgets/base",
      "_model_module_version": "1.2.0",
      "_model_name": "LayoutModel",
      "_view_count": null,
      "_view_module": "@jupyter-widgets/base",
      "_view_module_version": "1.2.0",
      "_view_name": "LayoutView",
      "align_content": null,
      "align_items": null,
      "align_self": null,
      "border": null,
      "bottom": null,
      "display": null,
      "flex": null,
      "flex_flow": null,
      "grid_area": null,
      "grid_auto_columns": null,
      "grid_auto_flow": null,
      "grid_auto_rows": null,
      "grid_column": null,
      "grid_gap": null,
      "grid_row": null,
      "grid_template_areas": null,
      "grid_template_columns": null,
      "grid_template_rows": null,
      "height": null,
      "justify_content": null,
      "justify_items": null,
      "left": null,
      "margin": null,
      "max_height": null,
      "max_width": null,
      "min_height": null,
      "min_width": null,
      "object_fit": null,
      "object_position": null,
      "order": null,
      "overflow": null,
      "overflow_x": null,
      "overflow_y": null,
      "padding": null,
      "right": null,
      "top": null,
      "visibility": null,
      "width": null
     }
    }
   }
  }
 },
 "nbformat": 4,
 "nbformat_minor": 1
}
