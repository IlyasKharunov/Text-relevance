{
 "cells": [
  {
   "cell_type": "code",
   "execution_count": 1,
   "metadata": {
    "colab": {
     "base_uri": "https://localhost:8080/",
     "height": 69
    },
    "colab_type": "code",
    "id": "ogb_hOZ7wNGd",
    "outputId": "772d9830-eb5e-483d-cf20-a2063894ae89"
   },
   "outputs": [
    {
     "name": "stdout",
     "output_type": "stream",
     "text": [
      "Collecting beautifulsoup4\n",
      "  Downloading beautifulsoup4-4.9.1-py3-none-any.whl (115 kB)\n",
      "Requirement already satisfied, skipping upgrade: soupsieve>1.2 in c:\\users\\acer\\anaconda3\\lib\\site-packages (from beautifulsoup4) (1.9.4)\n",
      "Installing collected packages: beautifulsoup4\n",
      "  Attempting uninstall: beautifulsoup4\n",
      "    Found existing installation: beautifulsoup4 4.9.0\n",
      "    Uninstalling beautifulsoup4-4.9.0:\n",
      "      Successfully uninstalled beautifulsoup4-4.9.0\n",
      "Successfully installed beautifulsoup4-4.9.1\n",
      "Collecting lxml\n",
      "  Downloading lxml-4.5.1-cp37-cp37m-win_amd64.whl (3.5 MB)\n",
      "Installing collected packages: lxml\n",
      "  Attempting uninstall: lxml\n",
      "    Found existing installation: lxml 4.5.0\n",
      "    Uninstalling lxml-4.5.0:\n",
      "      Successfully uninstalled lxml-4.5.0\n",
      "Successfully installed lxml-4.5.1\n"
     ]
    }
   ],
   "source": [
    "!pip install --upgrade beautifulsoup4\n",
    "!pip install --upgrade lxml"
   ]
  },
  {
   "cell_type": "code",
   "execution_count": 2,
   "metadata": {
    "colab": {},
    "colab_type": "code",
    "id": "lW9aH5N-wNJS"
   },
   "outputs": [],
   "source": [
    "from bs4 import BeautifulSoup,Comment"
   ]
  },
  {
   "cell_type": "code",
   "execution_count": 3,
   "metadata": {
    "colab": {},
    "colab_type": "code",
    "id": "uE9r4tOJKlRq"
   },
   "outputs": [
    {
     "name": "stdout",
     "output_type": "stream",
     "text": [
      "Requirement already up-to-date: pymorphy2-dicts in c:\\users\\acer\\anaconda3\\lib\\site-packages (2.4.393442.3710985)\n",
      "Requirement already up-to-date: DAWG-Python in c:\\users\\acer\\anaconda3\\lib\\site-packages (0.7.2)\n",
      "Requirement already up-to-date: pymorphy2[fast] in c:\\users\\acer\\anaconda3\\lib\\site-packages (0.8)\n",
      "Requirement already satisfied, skipping upgrade: pymorphy2-dicts<3.0,>=2.4 in c:\\users\\acer\\anaconda3\\lib\\site-packages (from pymorphy2[fast]) (2.4.393442.3710985)\n",
      "Requirement already satisfied, skipping upgrade: docopt>=0.6 in c:\\users\\acer\\anaconda3\\lib\\site-packages (from pymorphy2[fast]) (0.6.2)\n",
      "Requirement already satisfied, skipping upgrade: dawg-python>=0.7 in c:\\users\\acer\\anaconda3\\lib\\site-packages (from pymorphy2[fast]) (0.7.2)\n",
      "Requirement already satisfied, skipping upgrade: DAWG>=0.7.3; extra == \"fast\" in c:\\users\\acer\\anaconda3\\lib\\site-packages (from pymorphy2[fast]) (0.8.0)\n",
      "Requirement already up-to-date: nltk in c:\\users\\acer\\anaconda3\\lib\\site-packages (3.5)\n",
      "Requirement already satisfied, skipping upgrade: tqdm in c:\\users\\acer\\anaconda3\\lib\\site-packages (from nltk) (4.46.0)\n",
      "Requirement already satisfied, skipping upgrade: click in c:\\users\\acer\\anaconda3\\lib\\site-packages (from nltk) (7.1.1)\n",
      "Requirement already satisfied, skipping upgrade: joblib in c:\\users\\acer\\anaconda3\\lib\\site-packages (from nltk) (0.14.1)\n",
      "Requirement already satisfied, skipping upgrade: regex in c:\\users\\acer\\anaconda3\\lib\\site-packages (from nltk) (2020.5.14)\n"
     ]
    },
    {
     "name": "stderr",
     "output_type": "stream",
     "text": [
      "[nltk_data] Downloading package stopwords to\n",
      "[nltk_data]     C:\\Users\\Acer\\AppData\\Roaming\\nltk_data...\n",
      "[nltk_data]   Package stopwords is already up-to-date!\n"
     ]
    },
    {
     "name": "stdout",
     "output_type": "stream",
     "text": [
      "великий\n"
     ]
    }
   ],
   "source": [
    "%run prepare_some_data.ipynb"
   ]
  },
  {
   "cell_type": "code",
   "execution_count": 4,
   "metadata": {},
   "outputs": [],
   "source": [
    "def is_comment(element): \n",
    "        return isinstance(element, Comment)"
   ]
  },
  {
   "cell_type": "code",
   "execution_count": 5,
   "metadata": {
    "colab": {},
    "colab_type": "code",
    "id": "fbsqg-vBv-dI"
   },
   "outputs": [],
   "source": [
    "def extract_for_bert(soup):\n",
    "        \n",
    "    blacklist = set([\n",
    "        '[document]',\n",
    "        \n",
    "        'dialog',\n",
    "        'html',\n",
    "        'input',\n",
    "        \n",
    "        'script',\n",
    "        'noscript',\n",
    "        'applet',\n",
    "        'embed',  \n",
    "        'object',\n",
    "        'param',\n",
    "        \n",
    "        \n",
    "        'head',\n",
    "        'meta',\n",
    "        'base',\n",
    "        'basefont',\n",
    "\n",
    "        'style',\n",
    "    ])\n",
    "        \n",
    "    for comment in soup.find_all(text=is_comment):\n",
    "        comment.extract()\n",
    "    \n",
    "    \n",
    "    ans=''\n",
    "    for text in soup.find_all(text=True):\n",
    "        if text.parent.name in blacklist:\n",
    "            continue\n",
    "        ans+=process_string(text)+' '\n",
    "    \n",
    "    return ans"
   ]
  },
  {
   "cell_type": "code",
   "execution_count": 6,
   "metadata": {},
   "outputs": [],
   "source": [
    "def extract_for_bm(soup):\n",
    "        \n",
    "    blacklist = set([\n",
    "        '[document]',\n",
    "        \n",
    "        'dialog',\n",
    "        'html',\n",
    "        'input',\n",
    "        \n",
    "        'script',\n",
    "        'noscript',\n",
    "        'applet',\n",
    "        'embed',  \n",
    "        'object',\n",
    "        'param',\n",
    "        \n",
    "        \n",
    "        'head',\n",
    "        'meta',\n",
    "        'base',\n",
    "        'basefont',\n",
    "\n",
    "        'style',\n",
    "    ])\n",
    "        \n",
    "    for comment in soup.find_all(text=is_comment):\n",
    "        comment.extract()\n",
    "    \n",
    "          \n",
    "    classes=[\n",
    "             set(['a']),\n",
    "             set(['h1','h2']),\n",
    "             set(['h3','h4','h5','h6']),\n",
    "             set(['strong','b','em','i','u','dl','ol','ul'])\n",
    "    ]\n",
    "    ans=['' for i in range(len(classes)+1)]\n",
    "    for text in soup.find_all(text=True):\n",
    "        if text.parent.name in blacklist:\n",
    "            continue\n",
    "        ind=0\n",
    "        for cls in classes:\n",
    "            if text.parent.name in cls:\n",
    "                ans[ind]+=string_lem(text)+' '\n",
    "                break\n",
    "            ind+=1\n",
    "        if ind==len(classes):\n",
    "            ans[ind]+=string_lem(text)+' '\n",
    "    return reduce(lambda x,y:x+'\\t'+y,ans)\n",
    "    \n",
    "    \n",
    "    return ans"
   ]
  },
  {
   "cell_type": "code",
   "execution_count": 0,
   "metadata": {
    "colab": {},
    "colab_type": "code",
    "id": "i7gIC6yKwDIa"
   },
   "outputs": [],
   "source": [
    "no_head=0\n",
    "no_body=0\n",
    "\n",
    "beg=time()\n",
    "\n",
    "\n",
    "i=0\n",
    "er=0\n",
    "with ZipFile('data.zip') as myzip:\n",
    "    files=myzip.namelist()\n",
    "    with open('bert_docs.txt','w', errors = 'ignore') as out:\n",
    "        for file_name in files:\n",
    "            if file_name[-1] == '/':\n",
    "                continue\n",
    "            with myzip.open(file_name) as f:\n",
    "                url=f.readline().decode('utf-8').strip()\n",
    "                doc_id=get_id[url]\n",
    "                raw_html=f.read()\n",
    "                try:\n",
    "                    html=raw_html.decode('utf-8')\n",
    "                except UnicodeDecodeError:\n",
    "                    html=raw_html.decode('latin-1')\n",
    "                    er+=1\n",
    "            \n",
    "            out.write(str(doc_id)+'\\t')\n",
    "            soup=BeautifulSoup(html)\n",
    "            if soup.head:\n",
    "                tmp=soup.head.find('meta',{'name':'description'})\n",
    "                out.write(process_string(tmp['content']) if tmp is not None and tmp.has_attr('content') else '')\n",
    "                out.write('\\t')\n",
    "\n",
    "                tmp=soup.head.find('meta',{'name':'author'})\n",
    "                out.write(process_string(tmp['content']) if tmp is not None and tmp.has_attr('content') else '')\n",
    "                out.write('\\t')\n",
    "\n",
    "                tmp=soup.head.find('meta',{'name':'keywords'})\n",
    "                out.write(process_string(tmp['content']) if tmp is not None and tmp.has_attr('content') else '')\n",
    "                out.write('\\t')\n",
    "\n",
    "                tmp=soup.head.title\n",
    "                out.write(process_string(tmp.text) if tmp is not None else '')\n",
    "                out.write('\\t')\n",
    "            else:\n",
    "                out.write('\\t'*4)\n",
    "                no_head+=1\n",
    "\n",
    "            if soup.body:\n",
    "                out.write(extract_for_bert(soup.body))\n",
    "            else:\n",
    "                no_body+=1\n",
    "            out.write('\\n')\n",
    "\n",
    "            if i%100==0:\n",
    "                print(i)\n",
    "            i+=1\n",
    "\n",
    "print(no_head,no_body,er)\n",
    "print((time()-beg)/i)"
   ]
  },
  {
   "cell_type": "code",
   "execution_count": 18,
   "metadata": {},
   "outputs": [
    {
     "name": "stdout",
     "output_type": "stream",
     "text": [
      "0\n",
      "100\n",
      "200\n",
      "300\n",
      "400\n",
      "500\n",
      "600\n",
      "700\n",
      "800\n",
      "900\n"
     ]
    },
    {
     "ename": "KeyboardInterrupt",
     "evalue": "",
     "output_type": "error",
     "traceback": [
      "\u001b[1;31m---------------------------------------------------------------------------\u001b[0m",
      "\u001b[1;31mKeyboardInterrupt\u001b[0m                         Traceback (most recent call last)",
      "\u001b[1;32m<ipython-input-18-b33eb243502f>\u001b[0m in \u001b[0;36m<module>\u001b[1;34m\u001b[0m\n\u001b[0;32m     46\u001b[0m \u001b[1;33m\u001b[0m\u001b[0m\n\u001b[0;32m     47\u001b[0m             \u001b[1;32mif\u001b[0m \u001b[0msoup\u001b[0m\u001b[1;33m.\u001b[0m\u001b[0mbody\u001b[0m\u001b[1;33m:\u001b[0m\u001b[1;33m\u001b[0m\u001b[1;33m\u001b[0m\u001b[0m\n\u001b[1;32m---> 48\u001b[1;33m                 \u001b[0mout\u001b[0m\u001b[1;33m.\u001b[0m\u001b[0mwrite\u001b[0m\u001b[1;33m(\u001b[0m\u001b[0mextract_for_bm\u001b[0m\u001b[1;33m(\u001b[0m\u001b[0msoup\u001b[0m\u001b[1;33m.\u001b[0m\u001b[0mbody\u001b[0m\u001b[1;33m)\u001b[0m\u001b[1;33m)\u001b[0m\u001b[1;33m\u001b[0m\u001b[1;33m\u001b[0m\u001b[0m\n\u001b[0m\u001b[0;32m     49\u001b[0m             \u001b[1;32melse\u001b[0m\u001b[1;33m:\u001b[0m\u001b[1;33m\u001b[0m\u001b[1;33m\u001b[0m\u001b[0m\n\u001b[0;32m     50\u001b[0m                 \u001b[0mno_body\u001b[0m\u001b[1;33m+=\u001b[0m\u001b[1;36m1\u001b[0m\u001b[1;33m\u001b[0m\u001b[1;33m\u001b[0m\u001b[0m\n",
      "\u001b[1;32m<ipython-input-6-a17f7d85c084>\u001b[0m in \u001b[0;36mextract_for_bm\u001b[1;34m(soup)\u001b[0m\n\u001b[0;32m     24\u001b[0m     ])\n\u001b[0;32m     25\u001b[0m \u001b[1;33m\u001b[0m\u001b[0m\n\u001b[1;32m---> 26\u001b[1;33m     \u001b[1;32mfor\u001b[0m \u001b[0mcomment\u001b[0m \u001b[1;32min\u001b[0m \u001b[0msoup\u001b[0m\u001b[1;33m.\u001b[0m\u001b[0mfind_all\u001b[0m\u001b[1;33m(\u001b[0m\u001b[0mtext\u001b[0m\u001b[1;33m=\u001b[0m\u001b[0mis_comment\u001b[0m\u001b[1;33m)\u001b[0m\u001b[1;33m:\u001b[0m\u001b[1;33m\u001b[0m\u001b[1;33m\u001b[0m\u001b[0m\n\u001b[0m\u001b[0;32m     27\u001b[0m         \u001b[0mcomment\u001b[0m\u001b[1;33m.\u001b[0m\u001b[0mextract\u001b[0m\u001b[1;33m(\u001b[0m\u001b[1;33m)\u001b[0m\u001b[1;33m\u001b[0m\u001b[1;33m\u001b[0m\u001b[0m\n\u001b[0;32m     28\u001b[0m \u001b[1;33m\u001b[0m\u001b[0m\n",
      "\u001b[1;32m~\\Anaconda3\\lib\\site-packages\\bs4\\element.py\u001b[0m in \u001b[0;36mfind_all\u001b[1;34m(self, name, attrs, recursive, text, limit, **kwargs)\u001b[0m\n\u001b[0;32m   1781\u001b[0m         \u001b[1;32mif\u001b[0m \u001b[1;32mnot\u001b[0m \u001b[0mrecursive\u001b[0m\u001b[1;33m:\u001b[0m\u001b[1;33m\u001b[0m\u001b[1;33m\u001b[0m\u001b[0m\n\u001b[0;32m   1782\u001b[0m             \u001b[0mgenerator\u001b[0m \u001b[1;33m=\u001b[0m \u001b[0mself\u001b[0m\u001b[1;33m.\u001b[0m\u001b[0mchildren\u001b[0m\u001b[1;33m\u001b[0m\u001b[1;33m\u001b[0m\u001b[0m\n\u001b[1;32m-> 1783\u001b[1;33m         \u001b[1;32mreturn\u001b[0m \u001b[0mself\u001b[0m\u001b[1;33m.\u001b[0m\u001b[0m_find_all\u001b[0m\u001b[1;33m(\u001b[0m\u001b[0mname\u001b[0m\u001b[1;33m,\u001b[0m \u001b[0mattrs\u001b[0m\u001b[1;33m,\u001b[0m \u001b[0mtext\u001b[0m\u001b[1;33m,\u001b[0m \u001b[0mlimit\u001b[0m\u001b[1;33m,\u001b[0m \u001b[0mgenerator\u001b[0m\u001b[1;33m,\u001b[0m \u001b[1;33m**\u001b[0m\u001b[0mkwargs\u001b[0m\u001b[1;33m)\u001b[0m\u001b[1;33m\u001b[0m\u001b[1;33m\u001b[0m\u001b[0m\n\u001b[0m\u001b[0;32m   1784\u001b[0m     \u001b[0mfindAll\u001b[0m \u001b[1;33m=\u001b[0m \u001b[0mfind_all\u001b[0m       \u001b[1;31m# BS3\u001b[0m\u001b[1;33m\u001b[0m\u001b[1;33m\u001b[0m\u001b[0m\n\u001b[0;32m   1785\u001b[0m     \u001b[0mfindChildren\u001b[0m \u001b[1;33m=\u001b[0m \u001b[0mfind_all\u001b[0m  \u001b[1;31m# BS2\u001b[0m\u001b[1;33m\u001b[0m\u001b[1;33m\u001b[0m\u001b[0m\n",
      "\u001b[1;32m~\\Anaconda3\\lib\\site-packages\\bs4\\element.py\u001b[0m in \u001b[0;36m_find_all\u001b[1;34m(self, name, attrs, text, limit, generator, **kwargs)\u001b[0m\n\u001b[0;32m    777\u001b[0m             \u001b[1;32mif\u001b[0m \u001b[0mi\u001b[0m\u001b[1;33m:\u001b[0m\u001b[1;33m\u001b[0m\u001b[1;33m\u001b[0m\u001b[0m\n\u001b[0;32m    778\u001b[0m                 \u001b[0mfound\u001b[0m \u001b[1;33m=\u001b[0m \u001b[0mstrainer\u001b[0m\u001b[1;33m.\u001b[0m\u001b[0msearch\u001b[0m\u001b[1;33m(\u001b[0m\u001b[0mi\u001b[0m\u001b[1;33m)\u001b[0m\u001b[1;33m\u001b[0m\u001b[1;33m\u001b[0m\u001b[0m\n\u001b[1;32m--> 779\u001b[1;33m                 \u001b[1;32mif\u001b[0m \u001b[0mfound\u001b[0m\u001b[1;33m:\u001b[0m\u001b[1;33m\u001b[0m\u001b[1;33m\u001b[0m\u001b[0m\n\u001b[0m\u001b[0;32m    780\u001b[0m                     \u001b[0mresults\u001b[0m\u001b[1;33m.\u001b[0m\u001b[0mappend\u001b[0m\u001b[1;33m(\u001b[0m\u001b[0mfound\u001b[0m\u001b[1;33m)\u001b[0m\u001b[1;33m\u001b[0m\u001b[1;33m\u001b[0m\u001b[0m\n\u001b[0;32m    781\u001b[0m                     \u001b[1;32mif\u001b[0m \u001b[0mlimit\u001b[0m \u001b[1;32mand\u001b[0m \u001b[0mlen\u001b[0m\u001b[1;33m(\u001b[0m\u001b[0mresults\u001b[0m\u001b[1;33m)\u001b[0m \u001b[1;33m>=\u001b[0m \u001b[0mlimit\u001b[0m\u001b[1;33m:\u001b[0m\u001b[1;33m\u001b[0m\u001b[1;33m\u001b[0m\u001b[0m\n",
      "\u001b[1;31mKeyboardInterrupt\u001b[0m: "
     ]
    }
   ],
   "source": [
    "no_head=0\n",
    "no_body=0\n",
    "\n",
    "beg=time()\n",
    "\n",
    "\n",
    "i=0\n",
    "er=0\n",
    "with ZipFile('data.zip') as myzip:\n",
    "    files=myzip.namelist()\n",
    "    with open('bm_docs.txt','w', errors = 'ignore') as out:\n",
    "        for file_name in files:\n",
    "            if file_name[-1] == '/':\n",
    "                continue\n",
    "            with myzip.open(file_name) as f:\n",
    "                url=f.readline().decode('utf-8').strip()\n",
    "                doc_id=get_id[url]\n",
    "                raw_html=f.read()\n",
    "                try:\n",
    "                    html=raw_html.decode('utf-8')\n",
    "                except UnicodeDecodeError:\n",
    "                    html=raw_html.decode('latin-1')\n",
    "                    er+=1\n",
    "            \n",
    "            out.write(str(doc_id)+'\\t')\n",
    "            soup=BeautifulSoup(html)\n",
    "            if soup.head:\n",
    "                tmp=soup.head.find('meta',{'name':'description'})\n",
    "                out.write(process_string(tmp['content']) if tmp is not None and tmp.has_attr('content') else '')\n",
    "                out.write('\\t')\n",
    "\n",
    "                tmp=soup.head.find('meta',{'name':'author'})\n",
    "                out.write(process_string(tmp['content']) if tmp is not None and tmp.has_attr('content') else '')\n",
    "                out.write('\\t')\n",
    "\n",
    "                tmp=soup.head.find('meta',{'name':'keywords'})\n",
    "                out.write(process_string(tmp['content']) if tmp is not None and tmp.has_attr('content') else '')\n",
    "                out.write('\\t')\n",
    "\n",
    "                tmp=soup.head.title\n",
    "                out.write(process_string(tmp.text) if tmp is not None else '')\n",
    "                out.write('\\t')\n",
    "            else:\n",
    "                out.write('\\t'*4)\n",
    "                no_head+=1\n",
    "\n",
    "            if soup.body:\n",
    "                out.write(extract_for_bm(soup.body))\n",
    "            else:\n",
    "                no_body+=1\n",
    "                out.write('\\t'*4)\n",
    "            out.write('\\n')\n",
    "\n",
    "            if i%100==0:\n",
    "                print(i)\n",
    "            i+=1\n",
    "\n",
    "print(no_head,no_body,er)\n",
    "print((time()-beg)/i)"
   ]
  },
  {
   "cell_type": "code",
   "execution_count": null,
   "metadata": {},
   "outputs": [],
   "source": []
  }
 ],
 "metadata": {
  "colab": {
   "name": "Worker.ipynb",
   "provenance": []
  },
  "kernelspec": {
   "display_name": "Python 3",
   "language": "python",
   "name": "python3"
  },
  "language_info": {
   "codemirror_mode": {
    "name": "ipython",
    "version": 3
   },
   "file_extension": ".py",
   "mimetype": "text/x-python",
   "name": "python",
   "nbconvert_exporter": "python",
   "pygments_lexer": "ipython3",
   "version": "3.7.6"
  }
 },
 "nbformat": 4,
 "nbformat_minor": 1
}
